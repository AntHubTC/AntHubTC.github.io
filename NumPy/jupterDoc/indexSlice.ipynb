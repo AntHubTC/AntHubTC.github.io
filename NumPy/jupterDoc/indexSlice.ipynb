{
 "cells": [
  {
   "cell_type": "markdown",
   "metadata": {},
   "source": [
    "NumPy是Python中用于数值计算和科学计算的重要库之一，提供了高效的多维数组（ndarray）对象和各种用于数组计算的函数和工具。在NumPy中，可以使用索引和切片来访问数组元素和子数组。\n",
    "1. 索引：\n",
    "在NumPy中，可以使用方括号[]访问数组中的元素，索引从0开始。可以使用整数或整数序列来指定索引，多个索引可以使用逗号分隔。"
   ]
  },
  {
   "cell_type": "code",
   "execution_count": 1,
   "metadata": {},
   "outputs": [
    {
     "name": "stdout",
     "output_type": "stream",
     "text": [
      "2\n",
      "[4 5 6]\n",
      "6\n",
      "[5 6]\n"
     ]
    }
   ],
   "source": [
    "import numpy as np\n",
    "arr = np.array([[1,2,3], [4,5,6]])\n",
    "print(arr[0, 1])       # 2\n",
    "print(arr[1])          # [4 5 6]\n",
    "print(arr[1][2])       # 6\n",
    "print(arr[1, -2:])     # [5 6]"
   ]
  },
  {
   "cell_type": "markdown",
   "metadata": {},
   "source": [
    "2. 切片\n",
    "   在NumPy中，可以使用切片来访问数组中的子数组，切片用冒号分隔开始和结束索引，返回的是原始数组的子数组，没有进行数据拷贝。可以使用[start:end:step]来定制切片。\n",
    "   "
   ]
  },
  {
   "cell_type": "code",
   "execution_count": 3,
   "metadata": {},
   "outputs": [
    {
     "name": "stdout",
     "output_type": "stream",
     "text": [
      "[2 3 4 5]\n",
      "[1 2 3 4]\n",
      "[5 6 7]\n",
      "[1 3 5 7]\n"
     ]
    }
   ],
   "source": [
    "import numpy as np\n",
    "arr = np.array([1, 2, 3, 4, 5, 6, 7])\n",
    "print(arr[1:5])        # [2 3 4 5]\n",
    "print(arr[:4])         # [1 2 3 4]\n",
    "print(arr[4:])         # [5 6 7]\n",
    "print(arr[::2])        # [1 3 5 7]"
   ]
  },
  {
   "cell_type": "markdown",
   "metadata": {},
   "source": [
    "对于多维数组，可以对不同维度的切片使用不同的语法："
   ]
  },
  {
   "cell_type": "code",
   "execution_count": 6,
   "metadata": {},
   "outputs": [
    {
     "name": "stdout",
     "output_type": "stream",
     "text": [
      "[[2 3]\n",
      " [5 6]]\n",
      "[4 5]\n",
      "[9 8 7]\n"
     ]
    }
   ],
   "source": [
    "import numpy as np\n",
    "arr = np.array([[1,2,3], [4,5,6], [7,8,9]])\n",
    "print(arr[:2, 1:])      # [[2 3]\n",
    "                        #  [5 6]]\n",
    "print(arr[1, :2])       # [4 5]\n",
    "\n",
    "print(arr[2, ::-1])     # [9 8 7] 倒序输出"
   ]
  },
  {
   "cell_type": "markdown",
   "metadata": {},
   "source": [
    "需要注意的是，NumPy中的切片与Python中的切片略有不同，主要体现在切片结束点是开区间，不包含结束索引对应的元素，而Python中是闭区间，包含结束索引对应的元素。"
   ]
  }
 ],
 "metadata": {
  "kernelspec": {
   "display_name": "Python 3",
   "language": "python",
   "name": "python3"
  },
  "language_info": {
   "codemirror_mode": {
    "name": "ipython",
    "version": 3
   },
   "file_extension": ".py",
   "mimetype": "text/x-python",
   "name": "python",
   "nbconvert_exporter": "python",
   "pygments_lexer": "ipython3",
   "version": "3.9.6"
  }
 },
 "nbformat": 4,
 "nbformat_minor": 2
}
