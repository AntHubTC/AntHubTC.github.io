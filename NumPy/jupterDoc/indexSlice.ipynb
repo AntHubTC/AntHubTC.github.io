{
 "cells": [
  {
   "cell_type": "markdown",
   "metadata": {},
   "source": [
    "## 索引&切片基础"
   ]
  },
  {
   "cell_type": "markdown",
   "metadata": {},
   "source": [
    "NumPy是Python中用于数值计算和科学计算的重要库之一，提供了高效的多维数组（ndarray）对象和各种用于数组计算的函数和工具。在NumPy中，可以使用索引和切片来访问数组元素和子数组。\n",
    "1. 索引：\n",
    "在NumPy中，可以使用方括号[]访问数组中的元素，索引从0开始。可以使用整数或整数序列来指定索引，多个索引可以使用逗号分隔。"
   ]
  },
  {
   "cell_type": "code",
   "execution_count": 1,
   "metadata": {},
   "outputs": [
    {
     "name": "stdout",
     "output_type": "stream",
     "text": [
      "2\n",
      "[4 5 6]\n",
      "6\n",
      "[5 6]\n"
     ]
    }
   ],
   "source": [
    "import numpy as np\n",
    "arr = np.array([[1,2,3], [4,5,6]])\n",
    "print(arr[0, 1])       # 2\n",
    "print(arr[1])          # [4 5 6]\n",
    "print(arr[1][2])       # 6\n",
    "print(arr[1, -2:])     # [5 6]"
   ]
  },
  {
   "cell_type": "markdown",
   "metadata": {},
   "source": [
    "2. 切片\n",
    "   在NumPy中，可以使用切片来访问数组中的子数组，切片用冒号分隔开始和结束索引，返回的是原始数组的子数组，没有进行数据拷贝。可以使用[start:end:step]来定制切片。\n",
    "   "
   ]
  },
  {
   "cell_type": "code",
   "execution_count": 3,
   "metadata": {},
   "outputs": [
    {
     "name": "stdout",
     "output_type": "stream",
     "text": [
      "[2 3 4 5]\n",
      "[1 2 3 4]\n",
      "[5 6 7]\n",
      "[1 3 5 7]\n"
     ]
    }
   ],
   "source": [
    "import numpy as np\n",
    "arr = np.array([1, 2, 3, 4, 5, 6, 7])\n",
    "print(arr[1:5])        # [2 3 4 5]\n",
    "print(arr[:4])         # [1 2 3 4]\n",
    "print(arr[4:])         # [5 6 7]\n",
    "print(arr[::2])        # [1 3 5 7]"
   ]
  },
  {
   "cell_type": "markdown",
   "metadata": {},
   "source": [
    "对于多维数组，可以对不同维度的切片使用不同的语法："
   ]
  },
  {
   "cell_type": "code",
   "execution_count": 6,
   "metadata": {},
   "outputs": [
    {
     "name": "stdout",
     "output_type": "stream",
     "text": [
      "[[2 3]\n",
      " [5 6]]\n",
      "[4 5]\n",
      "[9 8 7]\n"
     ]
    }
   ],
   "source": [
    "import numpy as np\n",
    "arr = np.array([[1,2,3], [4,5,6], [7,8,9]])\n",
    "print(arr[:2, 1:])      # [[2 3]\n",
    "                        #  [5 6]]\n",
    "print(arr[1, :2])       # [4 5]\n",
    "\n",
    "print(arr[2, ::-1])     # [9 8 7] 倒序输出"
   ]
  },
  {
   "cell_type": "markdown",
   "metadata": {},
   "source": [
    "需要注意的是，NumPy中的切片与Python中的切片略有不同，主要体现在切片结束点是开区间，不包含结束索引对应的元素，而Python中是闭区间，包含结束索引对应的元素。"
   ]
  },
  {
   "cell_type": "markdown",
   "metadata": {},
   "source": [
    "## 高级索引技巧"
   ]
  },
  {
   "cell_type": "markdown",
   "metadata": {},
   "source": [
    "NumPy提供了多种高级索引技巧，用于访问数组的特定位置。以下是三种常用的高级索引方法：\n",
    "\n",
    "1. 整数数组索引：使用一个整数数组作为索引，可以选择数组中的特定元素。"
   ]
  },
  {
   "cell_type": "code",
   "execution_count": 2,
   "metadata": {},
   "outputs": [
    {
     "name": "stdout",
     "output_type": "stream",
     "text": [
      "[2 4]\n"
     ]
    }
   ],
   "source": [
    "import numpy as np\n",
    "\n",
    "a = np.array([1, 2, 3, 4, 5])\n",
    "# 使用整数数组索引获取指定位置的元素\n",
    "indices = np.array([1, 3])\n",
    "result = a[indices]\n",
    "print(result)"
   ]
  },
  {
   "cell_type": "markdown",
   "metadata": {},
   "source": [
    "2. 布尔数组索引：使用一个布尔数组作为索引，可以根据布尔数组的元素值来选择数组中的元素。"
   ]
  },
  {
   "cell_type": "code",
   "execution_count": 7,
   "metadata": {},
   "outputs": [
    {
     "name": "stdout",
     "output_type": "stream",
     "text": [
      "[False False False  True  True]\n",
      "[4 5]\n"
     ]
    }
   ],
   "source": [
    "import numpy as np\n",
    "\n",
    "a = np.array([1, 2, 3, 4, 5])\n",
    "# 使用布尔数组索引选择大于3的元素\n",
    "mask = a > 3\n",
    "# 还可以直接按布尔数组进行匹配\n",
    "# mask = np.array([False, False, False, True, True])\n",
    "print(mask)\n",
    "result = a[mask]\n",
    "print(result)"
   ]
  },
  {
   "cell_type": "markdown",
   "metadata": {},
   "source": [
    "3. 花式索引(Fancy indexing)：使用整数数组或整数列表作为索引，可以根据指定的索引位置选择数组中的元素。"
   ]
  },
  {
   "cell_type": "code",
   "execution_count": 10,
   "metadata": {},
   "outputs": [
    {
     "name": "stdout",
     "output_type": "stream",
     "text": [
      "[1 3 5]\n"
     ]
    }
   ],
   "source": [
    "import numpy as np\n",
    "\n",
    "a = np.array([1, 2, 3, 4, 5])\n",
    "# 使用花式索引获取指定位置的元素\n",
    "indices = np.array([0, 2, 4])\n",
    "result = a[indices]\n",
    "print(result)"
   ]
  },
  {
   "cell_type": "markdown",
   "metadata": {},
   "source": [
    "多维数组的操作与此类似，如果使用负整数，索引会从末尾倒着开始哦。"
   ]
  }
 ],
 "metadata": {
  "kernelspec": {
   "display_name": "Python 3",
   "language": "python",
   "name": "python3"
  },
  "language_info": {
   "codemirror_mode": {
    "name": "ipython",
    "version": 3
   },
   "file_extension": ".py",
   "mimetype": "text/x-python",
   "name": "python",
   "nbconvert_exporter": "python",
   "pygments_lexer": "ipython3",
   "version": "3.9.6"
  }
 },
 "nbformat": 4,
 "nbformat_minor": 2
}
