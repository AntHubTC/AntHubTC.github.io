{
 "cells": [
  {
   "cell_type": "markdown",
   "id": "ce682f65-aa1d-4e6d-8438-bd8f29d49801",
   "metadata": {},
   "source": [
    "## 导入 NumPy 库"
   ]
  },
  {
   "cell_type": "code",
   "execution_count": null,
   "id": "5a009511-a489-42d8-89f7-e321d47c8b70",
   "metadata": {},
   "outputs": [],
   "source": [
    "import numpy as np"
   ]
  },
  {
   "cell_type": "markdown",
   "id": "72ed51d8-4e8a-4dd4-ad12-ec3478b68a90",
   "metadata": {},
   "source": [
    "## numpy基本类型\n",
    "NumPy是Python中用于数值计算和科学计算的重要库之一，提供了高效的多维数组（ndarray）对象和各种用于数组计算的函数和工具。在NumPy中，数组的数据类型（dtype）是决定其内存占用和数组内容的格式的关键因素。下面是NumPy中常用的数据类型：\n",
    "\n",
    "1.整数类型：bool、int8、uint8、int16、uint16、int32、uint32、int64、uint64\n",
    "* Bool类型：存储True或False的布尔变量"
   ]
  },
  {
   "cell_type": "code",
   "execution_count": 7,
   "id": "9e4bc04d-2ea1-4932-abef-c99828457c23",
   "metadata": {},
   "outputs": [
    {
     "name": "stdout",
     "output_type": "stream",
     "text": [
      "bool\n"
     ]
    }
   ],
   "source": [
    "import numpy as np\n",
    "arr_bool = np.array([True, False, False, True], dtype=bool) \n",
    "print(arr_bool.dtype)  # bool"
   ]
  },
  {
   "cell_type": "markdown",
   "id": "69d0b73b-e4bc-415a-bee5-40959601e42c",
   "metadata": {},
   "source": [
    "* Int类型：用于存储有符号或无符号整数，数字越大占用的内存越大，类型名中的数字表示占用的位数。"
   ]
  },
  {
   "cell_type": "code",
   "execution_count": 10,
   "id": "f9dc7823-d21b-4426-bbe7-1310fabcf2e9",
   "metadata": {},
   "outputs": [],
   "source": [
    "import numpy as np\n",
    "arr_int8 = np.array([1, 2, 3, 4], dtype=np.int8)\n",
    "arr_uint16 = np.array([10, 100, 1000], dtype=np.uint16)"
   ]
  },
  {
   "cell_type": "markdown",
   "id": "42a6494e-b367-459f-9cb7-e36fbfc57841",
   "metadata": {},
   "source": [
    "2. 浮点类型：float16、float32、float64、float128\n",
    "   \n",
    "   * Float类型：用于存储带有小数点的数字，数字占用的空间越大，数据精度更高。"
   ]
  },
  {
   "cell_type": "code",
   "execution_count": 13,
   "id": "20adc488-a285-482e-8eba-a21daac63665",
   "metadata": {},
   "outputs": [],
   "source": [
    "import numpy as np\n",
    "arr_float32 = np.array([0.0, 1.0, -1.5, 2.8], dtype=np.float32)\n",
    "arr_float64 = np.array([0.0, 1.0, -1.5, 2.8], dtype=np.float64)"
   ]
  },
  {
   "cell_type": "markdown",
   "id": "f6660cc1-50ce-4d74-9d42-7d63c5ca7fd1",
   "metadata": {},
   "source": [
    "3. 复数类型：complex64、complex128、complex256\n",
    "\n",
    "   * Complex类型：用于存储复数，complex64表示由两个32位的浮点数组成，一个表示实数部分，一个表示虚数部分。"
   ]
  },
  {
   "cell_type": "code",
   "execution_count": 15,
   "id": "9809f81a-60b8-4ac9-a110-fd3488c3f7b6",
   "metadata": {},
   "outputs": [],
   "source": [
    "import numpy as np\n",
    "arr_complex = np.array([1+2j, 2+3j, 3+4j], dtype=np.complex128)"
   ]
  },
  {
   "cell_type": "markdown",
   "id": "2ecd137a-2144-4372-bcb5-2ccd7ae09c62",
   "metadata": {},
   "source": [
    "4. 字符串类型：string\n",
    "\n",
    "   * String类型：用于存储字符串，最长的字符串长度为指定长度。"
   ]
  },
  {
   "cell_type": "code",
   "execution_count": 16,
   "id": "16e72aeb-851e-46b0-b0bf-60aeec332c59",
   "metadata": {},
   "outputs": [],
   "source": [
    "import numpy as np\n",
    "arr_str = np.array(['a', 'b', 'c'], dtype=np.string_) #或者 dtype='S1'"
   ]
  },
  {
   "cell_type": "markdown",
   "id": "93a9e9aa-3e96-431b-bff0-7d4180a15c70",
   "metadata": {},
   "source": [
    "5. 日期类型：datetime64、timedelta64\n",
    "\n",
    "* Datetime类型：用于表示日期和时间，datetime64是用于日期的类型，timedelta64是用于时间差的类型。"
   ]
  },
  {
   "cell_type": "code",
   "execution_count": 17,
   "id": "112340d7-cc9a-4616-ae44-2da047b83fc9",
   "metadata": {},
   "outputs": [],
   "source": [
    "import numpy as np\n",
    "arr_date = np.array(['2022-05-01 12:00:00', '2022-05-02 13:23:35'], dtype='datetime64')"
   ]
  },
  {
   "cell_type": "markdown",
   "id": "534d368f-923d-4f5d-af06-db374e33f31a",
   "metadata": {},
   "source": [
    "在使用numpy进行数值计算时，正确选择合适的数组类型能够减少内存占用和操作时间，提高代码的效率。因此，了解和理解NumPy数组类型是非常重要的。"
   ]
  }
 ],
 "metadata": {
  "kernelspec": {
   "display_name": "Python 3 (ipykernel)",
   "language": "python",
   "name": "python3"
  },
  "language_info": {
   "codemirror_mode": {
    "name": "ipython",
    "version": 3
   },
   "file_extension": ".py",
   "mimetype": "text/x-python",
   "name": "python",
   "nbconvert_exporter": "python",
   "pygments_lexer": "ipython3",
   "version": "3.9.6"
  }
 },
 "nbformat": 4,
 "nbformat_minor": 5
}
