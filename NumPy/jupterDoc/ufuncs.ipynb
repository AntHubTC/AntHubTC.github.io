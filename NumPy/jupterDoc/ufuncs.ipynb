{
 "cells": [
  {
   "cell_type": "markdown",
   "metadata": {},
   "source": [
    "NumPy（Numerical Python）是用于科学计算和数据分析的Python库之一，在其子模块中包含了许多用于处理多维数组的通用函数（ufuncs）。这些通用函数可以对数组中的元素进行逐个操作，产生一个或多个输出，通常不改变输入数据的形状大小。以下是NumPy中一些常用的通用函数：\n",
    "\n",
    "1. 算术运算：add、subtract、multiply、divide、power、mod、remainder、abs"
   ]
  },
  {
   "cell_type": "code",
   "execution_count": 3,
   "metadata": {},
   "outputs": [
    {
     "name": "stdout",
     "output_type": "stream",
     "text": [
      "[5 7 9]\n",
      "[-3 -3 -3]\n",
      "[ 4 10 18]\n",
      "[0.25 0.4  0.5 ]\n",
      "[1 4 9]\n",
      "[0 1 0]\n",
      "[0 1 0]\n",
      "[1 2 3]\n"
     ]
    }
   ],
   "source": [
    "import numpy as np\n",
    "x = np.array([1,2,3])\n",
    "y = np.array([4,5,6])\n",
    "print(np.add(x, y))     # [5 7 9]\n",
    "print(np.subtract(x, y)) # [-3 -3 -3]\n",
    "print(np.multiply(x, y)) # [4 10 18]\n",
    "print(np.divide(x, y))   # [0.25 0.4  0.5 ]\n",
    "print(np.power(x, 2))    # [1 4 9]\n",
    "print(np.mod(y, 2))      # [0 1 0]  %\n",
    "print(np.remainder(y, 2)) # [0 1 0] 取余\n",
    "print(np.abs([-1,-2,3]))     # [1 2 3]"
   ]
  },
  {
   "cell_type": "markdown",
   "metadata": {},
   "source": [
    "2. 统计函数：mean、std、var、sum、prod、min、max"
   ]
  },
  {
   "cell_type": "code",
   "execution_count": 8,
   "metadata": {},
   "outputs": [
    {
     "name": "stdout",
     "output_type": "stream",
     "text": [
      "2.5\n",
      "2.5\n",
      "1.118033988749895\n",
      "1.25\n",
      "10\n",
      "24\n",
      "1\n",
      "4\n"
     ]
    }
   ],
   "source": [
    "import numpy as np\n",
    "arr = np.array([1, 2, 3, 4])\n",
    "print(np.mean(arr))   # 2.5 求平均值\n",
    "print(np.median(arr)) # 2.5 中位数\n",
    "print(np.std(arr))    # 1.118033988749895 计算沿指定轴的标准偏差。\n",
    "print(np.var(arr))    # 1.25 计算沿指定轴的方差。\n",
    "print(np.sum(arr))    # 10 返回给定轴上数组元素的求和。\n",
    "print(np.prod(arr))   # 24 返回给定轴上数组元素的乘积。\n",
    "print(np.min(arr))    # 1 返回给定轴上数组元素的最小值。\n",
    "print(np.max(arr))    # 4 返回给定轴上数组元素的最大值。"
   ]
  },
  {
   "cell_type": "markdown",
   "metadata": {},
   "source": [
    "3. 三角函数：sin、cos、tan、arcsin、arccos、arctan"
   ]
  },
  {
   "cell_type": "code",
   "execution_count": 10,
   "metadata": {},
   "outputs": [
    {
     "name": "stdout",
     "output_type": "stream",
     "text": [
      "[0.         0.5        0.70710678 0.8660254  1.        ]\n",
      "[1.00000000e+00 8.66025404e-01 7.07106781e-01 5.00000000e-01\n",
      " 6.12323400e-17]\n",
      "[0.00000000e+00 5.77350269e-01 1.00000000e+00 1.73205081e+00\n",
      " 1.63312394e+16]\n",
      "0.5235987755982989\n",
      "1.0471975511965979\n",
      "0.7853981633974483\n"
     ]
    }
   ],
   "source": [
    "import numpy as np\n",
    "x = np.array([0, 30, 45, 60, 90])\n",
    "print(np.sin(np.deg2rad(x)))  # [0.         0.5        0.70710678 0.8660254  1.        ]\n",
    "print(np.cos(np.deg2rad(x)))  # [1.         0.8660254  0.70710678 0.5        0.        ]\n",
    "print(np.tan(np.deg2rad(x)))  # [0.         0.57735027 1.         1.73205081        inf]\n",
    "print(np.arcsin(0.5))         # 0.5235987755982989\n",
    "print(np.arccos(0.5))         # 1.0471975511965979\n",
    "print(np.arctan(1))           # 0.7853981633974483"
   ]
  },
  {
   "cell_type": "markdown",
   "metadata": {},
   "source": [
    "4. 逻辑运算：greater、less、equal、logical_and、logical_or"
   ]
  },
  {
   "cell_type": "code",
   "execution_count": 13,
   "metadata": {},
   "outputs": [
    {
     "name": "stdout",
     "output_type": "stream",
     "text": [
      "[False False  True]\n",
      "[ True False False]\n",
      "[False  True False]\n",
      "[False  True  True]\n",
      "[False  True  True]\n",
      "[ True False False]\n"
     ]
    }
   ],
   "source": [
    "import numpy as np\n",
    "x = np.array([1, 2, 3])\n",
    "y = np.array([2, 2, 2])\n",
    "print(np.greater(x, y))            # [False False  True]\n",
    "print(np.less(x, y))               # [ True False False]\n",
    "print(np.equal(x, y))              # [False  True False]\n",
    "print(x > 1)                        # [False  True  True]\n",
    "print(np.logical_and(x > 1, y < 3)) # [ True  True False]\n",
    "print(np.logical_or(x < 2, y > 2))  # [ True False  True]"
   ]
  },
  {
   "cell_type": "markdown",
   "metadata": {},
   "source": [
    "这些通用函数是使用NumPy进行科学计算和数据分析的基础，掌握它们是非常重要的。需要注意的是，在处理大量数据时，使用通用函数可以显著提高程序的执行速度。"
   ]
  }
 ],
 "metadata": {
  "kernelspec": {
   "display_name": "Python 3",
   "language": "python",
   "name": "python3"
  },
  "language_info": {
   "codemirror_mode": {
    "name": "ipython",
    "version": 3
   },
   "file_extension": ".py",
   "mimetype": "text/x-python",
   "name": "python",
   "nbconvert_exporter": "python",
   "pygments_lexer": "ipython3",
   "version": "3.9.6"
  }
 },
 "nbformat": 4,
 "nbformat_minor": 2
}
