{
 "cells": [
  {
   "cell_type": "markdown",
   "metadata": {},
   "source": [
    "## 数组操作"
   ]
  },
  {
   "cell_type": "markdown",
   "metadata": {},
   "source": [
    "NumPy提供了一些方便的函数来操作数组，包括连接数组、分割数组、改变数组形状和交换数组维度等。\n",
    "\n",
    "1. 连接数组：使用np.concatenate()函数沿指定轴连接数组"
   ]
  },
  {
   "cell_type": "code",
   "execution_count": 12,
   "metadata": {},
   "outputs": [
    {
     "name": "stdout",
     "output_type": "stream",
     "text": [
      "r1:\n",
      " [[1 2]\n",
      " [3 4]\n",
      " [5 6]\n",
      " [7 8]]\n",
      "r2:\n",
      " [[1 2 5 6]\n",
      " [3 4 7 8]]\n"
     ]
    }
   ],
   "source": [
    "import numpy as np\n",
    "\n",
    "a = np.array([[1, 2],\n",
    "              [3, 4]])\n",
    "b = np.array([[5, 6],\n",
    "              [7, 8]])\n",
    "\n",
    "# 沿行方向连接数组\n",
    "result = np.concatenate((a, b), axis=0)\n",
    "print(\"r1:\\n\", result)\n",
    "# Join a sequence of arrays along an existing axis. axis不能超过数组的维度\n",
    "result = np.concatenate((a, b), axis=1)\n",
    "print(\"r2:\\n\", result)"
   ]
  },
  {
   "cell_type": "markdown",
   "metadata": {},
   "source": [
    "2. 分割数组：使用np.split()函数将数组分割为多个子数组"
   ]
  },
  {
   "cell_type": "code",
   "execution_count": 24,
   "metadata": {},
   "outputs": [
    {
     "name": "stdout",
     "output_type": "stream",
     "text": [
      "[array([1, 2, 3]), array([4, 5])]\n",
      "[array([1, 2]), array([3, 4]), array([5])]\n"
     ]
    }
   ],
   "source": [
    "import numpy as np\n",
    "\n",
    "a = np.array([1, 2, 3, 4, 5])\n",
    "# 将数组分割为2个子数组\n",
    "result = np.array_split(a, 2)\n",
    "print(result)\n",
    "# 将数组分割为3个子数组\n",
    "result = np.array_split(a, 3)\n",
    "print(result)"
   ]
  },
  {
   "cell_type": "markdown",
   "metadata": {},
   "source": [
    "np.array_split()是 NumPy 中用于将数组拆分成多个子数组的函数。它接受三个参数：数组、拆分的位置或拆分的索引、拆分的轴。当我们拆分多维数组时，又会发生什么呢？"
   ]
  },
  {
   "cell_type": "code",
   "execution_count": 34,
   "metadata": {},
   "outputs": [
    {
     "name": "stdout",
     "output_type": "stream",
     "text": [
      "原始数组：\n",
      "[[ 1  2  3  4]\n",
      " [ 5  6  7  8]\n",
      " [ 9 10 11 12]]\n",
      "\n",
      "拆分后的子数组：\n",
      "[[ 1  2]\n",
      " [ 5  6]\n",
      " [ 9 10]]\n",
      "[[ 3  4]\n",
      " [ 7  8]\n",
      " [11 12]]\n"
     ]
    }
   ],
   "source": [
    "import numpy as np\n",
    "\n",
    "# 创建一个数组\n",
    "arr = np.arange(1, 13).reshape(3, 4)\n",
    "print(\"原始数组：\")\n",
    "print(arr)\n",
    "\n",
    "# 对数组进行拆分\n",
    "sub_arrays = np.array_split(arr, 2, axis=1)\n",
    "print(\"\\n拆分后的子数组：\")\n",
    "for sub_arr in sub_arrays:\n",
    "    print(sub_arr)"
   ]
  },
  {
   "cell_type": "markdown",
   "metadata": {},
   "source": [
    "wahoo，很明显，拆分根据axis参数，只获取二维原始数组（2-D)中的前2列，即在原始二维数组arr的每个元素下标为axis=1的位置停止了。\n",
    "\n",
    "在这个示例中，我们创建了一个 3 行 4 列的数组 arr，然后使用 np.array_split(arr, 2， axis=1) 将数组拆分成两个子数组。拆分的结果是一个包含两个数组的列表 sub_arrays，要注意的是，拆分的轴参数axis是可选的。如果没有提供轴参数，np.array_split() 默认在 0 轴（行）上进行拆分。"
   ]
  },
  {
   "cell_type": "markdown",
   "metadata": {},
   "source": [
    "3. 改变数组形状：使用np.reshape()函数改变数组的形状"
   ]
  },
  {
   "cell_type": "code",
   "execution_count": 51,
   "metadata": {},
   "outputs": [
    {
     "name": "stdout",
     "output_type": "stream",
     "text": [
      "[[1 2 3]\n",
      " [4 5 6]]\n",
      "[[1]\n",
      " [2]\n",
      " [3]\n",
      " [4]\n",
      " [5]\n",
      " [6]]\n"
     ]
    }
   ],
   "source": [
    "import numpy as np\n",
    "\n",
    "a = np.array([1, 2, 3, 4, 5, 6])\n",
    "# 将数组转换为2x3的形状\n",
    "result = np.reshape(a, (2, 3))\n",
    "print(result)\n",
    "\n",
    "result = np.reshape(result, (6, 1))\n",
    "print(result)\n",
    "\n",
    "# 改变层级后维度相乘的结果数量需要等于原元素个数，否则报错：ValueError\n",
    "# result = np.reshape(result, (7, 1))\n",
    "# print(result)"
   ]
  },
  {
   "cell_type": "markdown",
   "metadata": {},
   "source": [
    "4. 交换数组维度：使用np.transpose()函数交换数组的维度"
   ]
  },
  {
   "cell_type": "code",
   "execution_count": 52,
   "metadata": {},
   "outputs": [
    {
     "name": "stdout",
     "output_type": "stream",
     "text": [
      "[[1 4]\n",
      " [2 5]\n",
      " [3 6]]\n"
     ]
    }
   ],
   "source": [
    "import numpy as np\n",
    "\n",
    "a = np.array([[1, 2, 3],\n",
    "              [4, 5, 6]])\n",
    "# 交换数组的维度\n",
    "result = np.transpose(a)\n",
    "\n",
    "print(result)"
   ]
  }
 ],
 "metadata": {
  "kernelspec": {
   "display_name": "Python 3",
   "language": "python",
   "name": "python3"
  },
  "language_info": {
   "codemirror_mode": {
    "name": "ipython",
    "version": 3
   },
   "file_extension": ".py",
   "mimetype": "text/x-python",
   "name": "python",
   "nbconvert_exporter": "python",
   "pygments_lexer": "ipython3",
   "version": "3.9.6"
  }
 },
 "nbformat": 4,
 "nbformat_minor": 2
}
