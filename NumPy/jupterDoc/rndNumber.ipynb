{
 "cells": [
  {
   "cell_type": "markdown",
   "metadata": {},
   "source": [
    "NumPy提供了生成各种分布随机数的函数和工具，这些随机数生成器是伪随机数，基于确定性算法产生的序列，但是看起来像是随机的。\n",
    "下面是一些常用的随机数函数：\n",
    "1. np.random.random(size=None)\n",
    "   \n",
    "该函数返回一个[0, 1)之间的随机浮点数，可以使用size参数来指定要生成的随机数数组的形状。"
   ]
  },
  {
   "cell_type": "code",
   "execution_count": 4,
   "metadata": {},
   "outputs": [
    {
     "name": "stdout",
     "output_type": "stream",
     "text": [
      "0.8838692582576403\n",
      "[0.06030192 0.34653048 0.072524   0.20613905 0.10501264]\n",
      "[[0.39827106 0.08136065 0.69861865]\n",
      " [0.46925107 0.33687736 0.04750219]]\n",
      "[97.53563287  2.83104426 47.39646999 14.45399545  1.11773192]\n"
     ]
    }
   ],
   "source": [
    "import numpy as np\n",
    "print(np.random.random())          # 生成一个[0, 1)之间的随机浮点数\n",
    "print(np.random.random(size=5))    # 生成一个包含5个[0, 1)之间的随机浮点数的一维数组\n",
    "print(np.random.random(size=(2, 3)))# 生成一个2 x 3的二维数组，其中包含[0, 1)之间的随机浮点数\n",
    "print(np.random.random(size=5) * 100)"
   ]
  },
  {
   "cell_type": "markdown",
   "metadata": {},
   "source": [
    "2. np.random.randint(low, high=None, size=None, dtype=‘l’)\n",
    "   \n",
    "该函数返回一个位于闭区间 [low, high) 之间的随机整数（不包括 high)，可以使用 size 参数来指定所需随机数数组的形状，使用 dtype 参数来指定数据类型。\n",
    "ini 代码解读复制代码"
   ]
  },
  {
   "cell_type": "code",
   "execution_count": 6,
   "metadata": {},
   "outputs": [
    {
     "name": "stdout",
     "output_type": "stream",
     "text": [
      "0\n",
      "[0 0 0 0 0]\n",
      "[[3 3 4]\n",
      " [3 1 1]]\n",
      "[[1 2 3]\n",
      " [3 1 2]]\n"
     ]
    }
   ],
   "source": [
    "import numpy as np\n",
    "print(np.random.randint(0, 5))           # 生成一个[0, 5)之间的随机整数\n",
    "print(np.random.randint(1, size=5))      # 生成一个[0, 1)之间的随机整数数组\n",
    "print(np.random.randint(1, 5, size=(2,3)))# 生成一个2 x 3的随机整数数组，其中元素位于闭区间[1, 5)\n",
    "print(np.random.randint(1, 5, size=(2,3), dtype=np.int16)) # 指定数组数据类型为int16"
   ]
  },
  {
   "cell_type": "markdown",
   "metadata": {},
   "source": [
    "3. np.random.normal(loc=0.0, scale=1.0, size=None)\n",
    "\n",
    "该函数返回一个满足指定均值和标准差的高斯分布样本，可以使用loc指定均值，使用scale指定标准差。"
   ]
  },
  {
   "cell_type": "code",
   "execution_count": 8,
   "metadata": {},
   "outputs": [
    {
     "name": "stdout",
     "output_type": "stream",
     "text": [
      "1.3433393029297949\n",
      "[-0.75853984  0.34992885  0.06917252 -1.18565113 -0.05580368]\n",
      "[[1.50714459 2.10643909 1.55322006]\n",
      " [1.66937444 1.95246478 2.27885471]]\n"
     ]
    }
   ],
   "source": [
    "import numpy as np\n",
    "print(np.random.normal())           # 生成一个均值为0，标准差为1的高斯分布样本\n",
    "print(np.random.normal(size=5))     # 生成包含5个高斯分布样本的一维数组\n",
    "print(np.random.normal(loc=2.0, scale=0.5, size=(2,3))) # 生成2 x 3的数组，均值为2.0，标准差为0.5"
   ]
  },
  {
   "cell_type": "markdown",
   "metadata": {},
   "source": [
    "4. np.random.random_sample(size=None)\n",
    "\n",
    "该函数返回一个[0, 1)之间的随机浮点数，可以使用size参数来指定要生成的随机数数组的形状。"
   ]
  },
  {
   "cell_type": "code",
   "execution_count": 10,
   "metadata": {},
   "outputs": [
    {
     "name": "stdout",
     "output_type": "stream",
     "text": [
      "0.337748667953907\n",
      "[0.23458455 0.98004217 0.98734811 0.72383027 0.27129989]\n",
      "[[0.60119562 0.91635987 0.859324  ]\n",
      " [0.32428681 0.39037725 0.29036753]]\n"
     ]
    }
   ],
   "source": [
    "import numpy as np\n",
    "print(np.random.random_sample())      # 生成一个[0, 1)之间的随机浮点数\n",
    "print(np.random.random_sample(size=5))# 生成包含5个[0, 1)之间的随机浮点数的一维数组\n",
    "print(np.random.random_sample(size=(2, 3))) # 生成2 x 3的随机浮点数数组，元素位于[0, 1)"
   ]
  },
  {
   "cell_type": "markdown",
   "metadata": {},
   "source": [
    "5. np.random.seed(seed=None)\n",
    "\n",
    "该函数用于生成随机数生成器的种子，可以使用整数指定特定的种子，这样每次生成的随机序列都将相同。如果不指定种子，则使用系统时间作为种子。"
   ]
  },
  {
   "cell_type": "code",
   "execution_count": 16,
   "metadata": {},
   "outputs": [
    {
     "name": "stdout",
     "output_type": "stream",
     "text": [
      "0.771320643266746\n",
      "0.771320643266746\n"
     ]
    }
   ],
   "source": [
    "import numpy as np\n",
    "np.random.seed(10)       # 指定随机种子为10\n",
    "print(np.random.random()) # 生成0.77132064\n",
    "np.random.seed(10)\n",
    "print(np.random.random()) # 生成0.77132064，与上面的一样"
   ]
  }
 ],
 "metadata": {
  "kernelspec": {
   "display_name": "Python 3",
   "language": "python",
   "name": "python3"
  },
  "language_info": {
   "codemirror_mode": {
    "name": "ipython",
    "version": 3
   },
   "file_extension": ".py",
   "mimetype": "text/x-python",
   "name": "python",
   "nbconvert_exporter": "python",
   "pygments_lexer": "ipython3",
   "version": "3.9.6"
  }
 },
 "nbformat": 4,
 "nbformat_minor": 2
}
