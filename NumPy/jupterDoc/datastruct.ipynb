{
 "cells": [
  {
   "cell_type": "markdown",
   "id": "ab8b0ec6",
   "metadata": {},
   "source": [
    "## numpy基础数据结构"
   ]
  },
  {
   "cell_type": "markdown",
   "id": "90ddf678",
   "metadata": {},
   "source": [
    "NumPy是Python中用于数值计算和科学计算的重要库之一，提供了高效的多维数组（ndarray）对象和各种用于数组计算的函数和工具。在NumPy中，数组是基本的数据结构，可以用于存储和处理任何数值类型的数据。\n",
    "\n",
    "1.一维数组: 一维数组也称为一阶数组，是最基本的数组。它包含一系列相同数据类型的元素，并按线性方式排列。可以通过索引访问数组中的元素。"
   ]
  },
  {
   "cell_type": "code",
   "execution_count": null,
   "id": "483bdd39",
   "metadata": {},
   "outputs": [
    {
     "name": "stdout",
     "output_type": "stream",
     "text": [
      "[1 2 3 4 5]\n"
     ]
    }
   ],
   "source": [
    "import numpy as np\n",
    "arr1 = np.array([1, 2, 3, 4, 5])\n",
    "print(arr1)"
   ]
  },
  {
   "cell_type": "markdown",
   "id": "884c19b0",
   "metadata": {},
   "source": [
    "2. 二维数组: 二维数组也称为二阶数组，可以理解为包含多个一维数组的数组，称为行和列。二维数组中每个元素由两个坐标索引指定，一个表示行号，一个表示列号。"
   ]
  },
  {
   "cell_type": "code",
   "execution_count": null,
   "id": "f6a22ca5",
   "metadata": {},
   "outputs": [
    {
     "name": "stdout",
     "output_type": "stream",
     "text": [
      "[[1 2 3]\n",
      " [4 5 6]]\n"
     ]
    }
   ],
   "source": [
    "import numpy as np\n",
    "arr2 = np.array([[1, 2, 3], [4, 5, 6]])\n",
    "print(arr2)"
   ]
  },
  {
   "cell_type": "markdown",
   "id": "c7547d53",
   "metadata": {},
   "source": [
    "3. 三维数组: 三维数组也称为三阶数组，由多个二维数组组成，称为深度。每个元素由三个坐标索引指定，分别表示行，列和深度。"
   ]
  },
  {
   "cell_type": "code",
   "execution_count": null,
   "id": "a6741e7e",
   "metadata": {},
   "outputs": [
    {
     "name": "stdout",
     "output_type": "stream",
     "text": [
      "[[[ 1  2  3]\n",
      "  [ 4  5  6]]\n",
      "\n",
      " [[ 7  8  9]\n",
      "  [10 11 12]]]\n"
     ]
    }
   ],
   "source": [
    "import numpy as np\n",
    "arr3 = np.array([[[1, 2, 3], [4, 5, 6]], [[7, 8, 9], [10, 11, 12]]])\n",
    "print(arr3)"
   ]
  },
  {
   "cell_type": "markdown",
   "id": "990257df",
   "metadata": {},
   "source": [
    "4. 多维数组: 多维数组可以理解为包含多个n-1维数组的数组，可以是任意维数。在NumPy中，可以用ndim属性来获取数组的维数。"
   ]
  },
  {
   "cell_type": "code",
   "execution_count": null,
   "id": "a945e511",
   "metadata": {},
   "outputs": [
    {
     "name": "stdout",
     "output_type": "stream",
     "text": [
      "[[[[[1 2 3]]]]]\n",
      "数组的维度： 5\n"
     ]
    }
   ],
   "source": [
    "import numpy as np\n",
    "arr4 = np.array([1, 2, 3], ndmin=5)\n",
    "print(arr4)\n",
    "print('数组的维度：', arr4.ndim)"
   ]
  },
  {
   "cell_type": "markdown",
   "id": "d77b5653",
   "metadata": {},
   "source": [
    "NumPy中的数组数据结构比Python中的list更加灵活和高效，因为NumPy中的数组是按照连续的块存储在内存中的，并且提供了各种数组操作函数和算法，可以满足大量数值计算和科学计算的需求。"
   ]
  },
  {
   "cell_type": "markdown",
   "id": "2e28c7db-be14-4a47-a7ef-64e517bab7f7",
   "metadata": {},
   "source": [
    "## 数组的属性\n",
    "NumPy数组有许多重要的属性，可以帮助我们了解数组的特征。"
   ]
  },
  {
   "cell_type": "code",
   "execution_count": 2,
   "id": "bbac603d",
   "metadata": {},
   "outputs": [
    {
     "name": "stdout",
     "output_type": "stream",
     "text": [
      "数组形状: (5,)\n",
      "数组维度: 1\n",
      "数组元素总数: 5\n",
      "数组数据类型: int32\n"
     ]
    }
   ],
   "source": [
    "import numpy as np\n",
    "arr = np.array([1, 2, 3, 4, 5])\n",
    "print(\"数组形状:\", arr.shape)\n",
    "print(\"数组维度:\", arr.ndim)\n",
    "print(\"数组元素总数:\", arr.size)\n",
    "print(\"数组数据类型:\", arr.dtype)"
   ]
  }
 ],
 "metadata": {
  "kernelspec": {
   "display_name": "Python 3 (ipykernel)",
   "language": "python",
   "name": "python3"
  },
  "language_info": {
   "codemirror_mode": {
    "name": "ipython",
    "version": 3
   },
   "file_extension": ".py",
   "mimetype": "text/x-python",
   "name": "python",
   "nbconvert_exporter": "python",
   "pygments_lexer": "ipython3",
   "version": "3.9.6"
  }
 },
 "nbformat": 4,
 "nbformat_minor": 5
}
