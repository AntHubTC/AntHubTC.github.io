{
 "cells": [
  {
   "cell_type": "markdown",
   "metadata": {},
   "source": [
    "NumPy数组广播是一种自动执行元素级操作的机制。它可以使具有不同形状的数组在算术运算中表现得像具有相同形状的数组一样。这种机制大大简化了对不同形状数组之间的操作。\n",
    "\n",
    "下面是一个示例代码，演示了如何使用广播来执行数组的加法运算："
   ]
  },
  {
   "cell_type": "code",
   "execution_count": 7,
   "metadata": {},
   "outputs": [
    {
     "name": "stdout",
     "output_type": "stream",
     "text": [
      "[[11 22 33]\n",
      " [14 25 36]]\n"
     ]
    }
   ],
   "source": [
    "import numpy as np\n",
    "\n",
    "arr1 = np.array([[1, 2, 3],\n",
    "                 [4, 5, 6]])\n",
    "arr2 = np.array([10, 20, 30])\n",
    "result = arr1 + arr2\n",
    "print(result)"
   ]
  },
  {
   "cell_type": "markdown",
   "metadata": {},
   "source": [
    "在上面的代码中，arr1 是一个形状为 (2, 3) 的二维数组，arr2 是一个形状为 (3,) 的一维数组。根据广播规则，arr2 实际上被扩展为了形状为 (2, 3) 的二维数组，其中每一行都是 arr2。然后，数组 arr1 和扩展后的 arr2 进行元素级加法运算，得到了最终的结果。\n",
    "\n",
    "通过广播机制，我们可以直接对不同大小的数组执行加法操作，而不需要手动进行数组形状的调整。这样可以大大简化代码，并提高效率。同时，广播机制也可以应用于其他的 NumPy 函数和运算中。"
   ]
  },
  {
   "cell_type": "code",
   "execution_count": 8,
   "metadata": {},
   "outputs": [
    {
     "name": "stdout",
     "output_type": "stream",
     "text": [
      "[[11 12 13]\n",
      " [14 15 16]]\n",
      "[[11 12 13]\n",
      " [14 15 16]]\n"
     ]
    }
   ],
   "source": [
    "print(arr1 + 10)\n",
    "print(arr1 + np.array([10]))\n",
    "# ValueError: operands could not be broadcast together with shapes (2,3) (2,) \n",
    "# print(arr1 + np.array([1, 2]))"
   ]
  }
 ],
 "metadata": {
  "kernelspec": {
   "display_name": "Python 3",
   "language": "python",
   "name": "python3"
  },
  "language_info": {
   "codemirror_mode": {
    "name": "ipython",
    "version": 3
   },
   "file_extension": ".py",
   "mimetype": "text/x-python",
   "name": "python",
   "nbconvert_exporter": "python",
   "pygments_lexer": "ipython3",
   "version": "3.9.6"
  }
 },
 "nbformat": 4,
 "nbformat_minor": 2
}
