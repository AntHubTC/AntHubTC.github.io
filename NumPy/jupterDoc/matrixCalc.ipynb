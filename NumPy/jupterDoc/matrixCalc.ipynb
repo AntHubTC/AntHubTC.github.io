{
 "cells": [
  {
   "cell_type": "markdown",
   "metadata": {},
   "source": [
    "## 矩阵运算\n",
    "\n",
    "NumPy支持矩阵运算，可以使用np.dot()函数计算两个数组的矩阵乘法。另外，np.linalg模块提供了一些常用的线性代数函数，如计算逆矩阵、解线性方程组、计算特征值和特征向量等。以下是一个简单的例子："
   ]
  },
  {
   "cell_type": "code",
   "execution_count": 1,
   "metadata": {},
   "outputs": [
    {
     "name": "stdout",
     "output_type": "stream",
     "text": [
      "[[19 22]\n",
      " [43 50]]\n"
     ]
    }
   ],
   "source": [
    "import numpy as np\n",
    "\n",
    "a = np.array([[1, 2],\n",
    "              [3, 4]])\n",
    "b = np.array([[5, 6],\n",
    "              [7, 8]])\n",
    "\n",
    "# 计算两个数组的矩阵乘法\n",
    "result = np.dot(a, b)\n",
    "\n",
    "print(result)"
   ]
  }
 ],
 "metadata": {
  "kernelspec": {
   "display_name": "Python 3",
   "language": "python",
   "name": "python3"
  },
  "language_info": {
   "codemirror_mode": {
    "name": "ipython",
    "version": 3
   },
   "file_extension": ".py",
   "mimetype": "text/x-python",
   "name": "python",
   "nbconvert_exporter": "python",
   "pygments_lexer": "ipython3",
   "version": "3.9.6"
  }
 },
 "nbformat": 4,
 "nbformat_minor": 2
}
