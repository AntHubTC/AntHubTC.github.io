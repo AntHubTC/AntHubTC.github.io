{
 "cells": [
  {
   "cell_type": "markdown",
   "id": "ce682f65-aa1d-4e6d-8438-bd8f29d49801",
   "metadata": {},
   "source": [
    "## 导入 NumPy 库"
   ]
  },
  {
   "cell_type": "code",
   "execution_count": null,
   "id": "5a009511-a489-42d8-89f7-e321d47c8b70",
   "metadata": {},
   "outputs": [],
   "source": [
    "import numpy as np"
   ]
  },
  {
   "cell_type": "code",
   "execution_count": 5,
   "id": "ed226879-fd1d-46c6-99f7-67207ee66f76",
   "metadata": {},
   "outputs": [],
   "source": [
    "## 数组（ndarray）概述\n",
    "# - 创建数组\n",
    "# - 从列表创建数组\n",
    "#   - 使用 `arange()` 和 `linspace()`\n",
    "#   - 使用随机数生成数组\n",
    "# - 数组属性\n",
    "#   - 形状 (shape)\n",
    "#   - 大小 (size)\n",
    "#   - 数据类型 (dtype)"
   ]
  },
  {
   "cell_type": "code",
   "execution_count": null,
   "id": "9e29ada7-6fc4-492f-b3cd-83e1d9217549",
   "metadata": {},
   "outputs": [],
   "source": []
  }
 ],
 "metadata": {
  "kernelspec": {
   "display_name": "Python 3 (ipykernel)",
   "language": "python",
   "name": "python3"
  },
  "language_info": {
   "codemirror_mode": {
    "name": "ipython",
    "version": 3
   },
   "file_extension": ".py",
   "mimetype": "text/x-python",
   "name": "python",
   "nbconvert_exporter": "python",
   "pygments_lexer": "ipython3",
   "version": "3.9.6"
  }
 },
 "nbformat": 4,
 "nbformat_minor": 5
}
