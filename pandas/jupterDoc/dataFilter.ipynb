{
 "cells": [
  {
   "cell_type": "markdown",
   "metadata": {},
   "source": [
    "## 数据筛选与过滤\n",
    "\n",
    "在 Pandas 中，数据筛选与过滤是非常常见且重要的操作，可以帮助你从 DataFrame 中提取满足特定条件的数据行。以下是一些常用的方法来进行数据筛选和过滤。"
   ]
  },
  {
   "cell_type": "markdown",
   "metadata": {},
   "source": [
    "### 1. 使用布尔索引\n",
    "\n",
    "你可以通过布尔条件直接对 DataFrame 进行过滤。这种方式非常直观。"
   ]
  },
  {
   "cell_type": "code",
   "execution_count": 6,
   "metadata": {},
   "outputs": [
    {
     "name": "stdout",
     "output_type": "stream",
     "text": [
      "原始数据:\n",
      "   A  B\n",
      "0  1  5\n",
      "1  2  6\n",
      "2  3  7\n",
      "3  4  8\n",
      "选择情况\n",
      "0    False\n",
      "1    False\n",
      "2     True\n",
      "3     True\n",
      "Name: A, dtype: bool\n",
      "筛选出 A 列大于 2 的行:\n",
      "   A  B\n",
      "2  3  7\n",
      "3  4  8\n"
     ]
    }
   ],
   "source": [
    "import pandas as pd\n",
    "\n",
    "# 示例 DataFrame\n",
    "df = pd.DataFrame({\n",
    "    'A': [1, 2, 3, 4],\n",
    "    'B': [5, 6, 7, 8]\n",
    "})\n",
    "print(\"原始数据:\")\n",
    "print(df)\n",
    "\n",
    "# 筛选出 A 列大于 2 的行\n",
    "print(\"选择情况\")\n",
    "print(df['A'] > 2)\n",
    "filtered_df = df[df['A'] > 2]\n",
    "print(\"筛选出 A 列大于 2 的行:\")\n",
    "print(filtered_df)"
   ]
  },
  {
   "cell_type": "markdown",
   "metadata": {},
   "source": [
    "### 2. 使用 query() 方法\n",
    "使用 query() 方法可以用一种类似 SQL 的语法进行数据筛选，这在处理复杂条件时特别方便。"
   ]
  },
  {
   "cell_type": "code",
   "execution_count": 10,
   "metadata": {},
   "outputs": [
    {
     "name": "stdout",
     "output_type": "stream",
     "text": [
      "\n",
      "使用 query 筛选出 A 列大于 2 的行:\n",
      "   A  B\n",
      "2  3  7\n",
      "3  4  8\n"
     ]
    }
   ],
   "source": [
    "# 使用 query 筛选\n",
    "filtered_df_query = df.query('A > 2')\n",
    "\n",
    "print(\"\\n使用 query 筛选出 A 列大于 2 的行:\")\n",
    "print(filtered_df_query)"
   ]
  },
  {
   "cell_type": "markdown",
   "metadata": {},
   "source": [
    "### 3. 多条件筛选\n",
    "你也可以通过逻辑运算符（& 和 |）来进行多条件筛选，需要注意的是在使用这些运算符时要将条件用括号括起来。"
   ]
  },
  {
   "cell_type": "code",
   "execution_count": 13,
   "metadata": {},
   "outputs": [
    {
     "name": "stdout",
     "output_type": "stream",
     "text": [
      "\n",
      "筛选出 A 列大于 2 且 B 列小于 8 的行:\n",
      "   A  B\n",
      "2  3  7\n"
     ]
    }
   ],
   "source": [
    "# 多条件筛选，A 列大于 2 且 B 列小于 8\n",
    "filtered_df_multi = df[(df['A'] > 2) & (df['B'] < 8)]\n",
    "\n",
    "print(\"\\n筛选出 A 列大于 2 且 B 列小于 8 的行:\")\n",
    "print(filtered_df_multi)"
   ]
  },
  {
   "cell_type": "markdown",
   "metadata": {},
   "source": [
    "### 4. 使用 isin() 方法\n",
    "如果你想基于一组特定值进行过滤，可以使用 isin() 方法。"
   ]
  },
  {
   "cell_type": "code",
   "execution_count": 15,
   "metadata": {},
   "outputs": [
    {
     "name": "stdout",
     "output_type": "stream",
     "text": [
      "\n",
      "筛选出 B 列中值为 5 或 6 的行:\n",
      "   A  B\n",
      "0  1  5\n",
      "1  2  6\n"
     ]
    }
   ],
   "source": [
    "# 筛选 B 列中值为 5 或 6 的行\n",
    "filtered_df_isin = df[df['B'].isin([5, 6])]\n",
    "\n",
    "print(\"\\n筛选出 B 列中值为 5 或 6 的行:\")\n",
    "print(filtered_df_isin)"
   ]
  },
  {
   "cell_type": "markdown",
   "metadata": {},
   "source": [
    "### 5. 使用 loc[] 和 iloc[]\n",
    "\n",
    "* loc[] 用于标签索引，可以用于选择行和列。"
   ]
  },
  {
   "cell_type": "code",
   "execution_count": 18,
   "metadata": {},
   "outputs": [
    {
     "name": "stdout",
     "output_type": "stream",
     "text": [
      "\n",
      "使用 loc 筛选并选择特定列:\n",
      "   B\n",
      "2  7\n",
      "3  8\n"
     ]
    }
   ],
   "source": [
    "# 使用 loc 筛选 A 列大于 2 的行，并选择特定的列\n",
    "filtered_loc = df.loc[df['A'] > 2, ['B']]\n",
    "\n",
    "print(\"\\n使用 loc 筛选并选择特定列:\")\n",
    "print(filtered_loc)"
   ]
  },
  {
   "cell_type": "markdown",
   "metadata": {},
   "source": [
    "- iloc[] 用于位置索引，可以基于行和列的整数位置进行筛选。"
   ]
  },
  {
   "cell_type": "code",
   "execution_count": 26,
   "metadata": {},
   "outputs": [
    {
     "name": "stdout",
     "output_type": "stream",
     "text": [
      "\n",
      "使用 iloc 筛选前两行:\n",
      "   A  B\n",
      "0  1  5\n",
      "1  2  6\n"
     ]
    }
   ],
   "source": [
    "# 使用 iloc 筛选前两行\n",
    "filtered_iloc = df.iloc[:2]\n",
    "\n",
    "print(\"\\n使用 iloc 筛选前两行:\")\n",
    "print(filtered_iloc)"
   ]
  },
  {
   "cell_type": "markdown",
   "metadata": {},
   "source": [
    "数据筛选与过滤是数据分析中的基本技能。通过布尔索引、query() 方法、多条件筛选等方式，你可以灵活地从 DataFrame 中提取出满足特定条件的数据行。这些技巧将帮助你更有效地处理和分析数据。"
   ]
  }
 ],
 "metadata": {
  "kernelspec": {
   "display_name": "Python 3",
   "language": "python",
   "name": "python3"
  },
  "language_info": {
   "codemirror_mode": {
    "name": "ipython",
    "version": 3
   },
   "file_extension": ".py",
   "mimetype": "text/x-python",
   "name": "python",
   "nbconvert_exporter": "python",
   "pygments_lexer": "ipython3",
   "version": "3.9.6"
  }
 },
 "nbformat": 4,
 "nbformat_minor": 2
}
