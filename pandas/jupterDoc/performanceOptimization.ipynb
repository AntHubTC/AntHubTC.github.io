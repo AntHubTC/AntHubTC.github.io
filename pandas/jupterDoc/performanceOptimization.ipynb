{
 "cells": [
  {
   "cell_type": "markdown",
   "metadata": {},
   "source": [
    "# 性能优化\n",
    "\n",
    "在处理大型数据集时，性能优化是非常重要的。以下是一些常用的方法来提高 Pandas 的性能。\n",
    "\n",
    "## 使用向量化操作提高性能\n",
    "\n",
    "\n",
    "向量化操作是指在整个数据集上同时执行操作，而不是逐行处理。这种方法通常更快，因为它充分利用了底层的 C 语言实现。"
   ]
  },
  {
   "cell_type": "code",
   "execution_count": 3,
   "metadata": {},
   "outputs": [
    {
     "name": "stdout",
     "output_type": "stream",
     "text": [
      "              A              B\n",
      "0             1              1\n",
      "1             2              4\n",
      "2             3              9\n",
      "3             4             16\n",
      "4             5             25\n",
      "...         ...            ...\n",
      "999995   999996   999992000016\n",
      "999996   999997   999994000009\n",
      "999997   999998   999996000004\n",
      "999998   999999   999998000001\n",
      "999999  1000000  1000000000000\n",
      "\n",
      "[1000000 rows x 2 columns]\n"
     ]
    }
   ],
   "source": [
    "import pandas as pd\n",
    "\n",
    "# 创建一个示例 DataFrame\n",
    "data = {'A': range(1, 1000001)}\n",
    "df = pd.DataFrame(data)\n",
    "\n",
    "# 向量化操作：计算平方\n",
    "df['B'] = df['A'] ** 2\n",
    "print(df)"
   ]
  },
  {
   "cell_type": "markdown",
   "metadata": {},
   "source": [
    "## 使用 numba 和 cython 优化 Pandas\n",
    "\n",
    "numba 是一个即时编译器，可以将 Python 函数编译为高性能机器代码。cython 则允许使用 C 语言语法来编写 Python 代码，从而提升性能。\n",
    "\n",
    "使用 numba 示例："
   ]
  },
  {
   "cell_type": "code",
   "execution_count": null,
   "metadata": {},
   "outputs": [],
   "source": [
    "! pip install numba"
   ]
  },
  {
   "cell_type": "code",
   "execution_count": 11,
   "metadata": {},
   "outputs": [],
   "source": [
    "import numba\n",
    "import numpy as np\n",
    "\n",
    "@numba.jit\n",
    "def add_arrays(x, y):\n",
    "    return x + y\n",
    "\n",
    "x = np.random.rand(1000000)\n",
    "y = np.random.rand(1000000)\n",
    "\n",
    "result = add_arrays(x, y)"
   ]
  },
  {
   "cell_type": "markdown",
   "metadata": {},
   "source": [
    "使用 cython 示例：\n",
    "\n",
    "首先需要安装 cython，然后创建一个 .pyx 文件。"
   ]
  },
  {
   "cell_type": "code",
   "execution_count": null,
   "metadata": {},
   "outputs": [],
   "source": [
    "# my_module.pyx\n",
    "cdef double add(double a, double b):\n",
    "    return a + b"
   ]
  },
  {
   "cell_type": "markdown",
   "metadata": {},
   "source": [
    "然后在 Python 中编译并使用它"
   ]
  },
  {
   "cell_type": "code",
   "execution_count": null,
   "metadata": {},
   "outputs": [],
   "source": [
    "from my_module import add\n",
    "\n",
    "result = add(3.0, 4.0)"
   ]
  },
  {
   "cell_type": "markdown",
   "metadata": {},
   "source": [
    "## 内存管理与优化技巧\n",
    "\n",
    "对于大数据集，内存管理是优化性能的关键。以下是一些常用的内存管理技巧：\n",
    "\n",
    "减少数据类型的内存占用：\n",
    "\n",
    "- 使用适当的数据类型，例如将 float64 转换为 float32 或将对象类型转换为分类类型。"
   ]
  },
  {
   "cell_type": "code",
   "execution_count": null,
   "metadata": {},
   "outputs": [],
   "source": [
    "df['A'] = df['A'].astype('float32')\n",
    "df['C'] = df['C'].astype('category')"
   ]
  },
  {
   "cell_type": "markdown",
   "metadata": {},
   "source": [
    "删除不必要的列：\n",
    "\n",
    "- 在分析前，可以删除不需要的列以释放内存。"
   ]
  },
  {
   "cell_type": "code",
   "execution_count": null,
   "metadata": {},
   "outputs": [],
   "source": [
    "df.drop(columns=['不需要的列'], inplace=True)"
   ]
  },
  {
   "cell_type": "markdown",
   "metadata": {},
   "source": [
    "分块读取数据：\n",
    "\n",
    "- 对于超大的 CSV 文件，可以使用 chunksize 分块读取，以避免一次性加载到内存中。"
   ]
  },
  {
   "cell_type": "code",
   "execution_count": null,
   "metadata": {},
   "outputs": [],
   "source": [
    "for chunk in pd.read_csv('large_file.csv', chunksize=10000):\n",
    "    process(chunk)"
   ]
  },
  {
   "cell_type": "markdown",
   "metadata": {},
   "source": [
    "使用 DataFrame.memory_usage() 查看内存使用情况：\n",
    "\n",
    "- 可以通过这个函数检查 DataFrame 每一列的内存消耗，为优化提供依据。"
   ]
  },
  {
   "cell_type": "code",
   "execution_count": null,
   "metadata": {},
   "outputs": [],
   "source": [
    "print(df.memory_usage(deep=True))"
   ]
  }
 ],
 "metadata": {
  "kernelspec": {
   "display_name": "Python 3",
   "language": "python",
   "name": "python3"
  },
  "language_info": {
   "codemirror_mode": {
    "name": "ipython",
    "version": 3
   },
   "file_extension": ".py",
   "mimetype": "text/x-python",
   "name": "python",
   "nbconvert_exporter": "python",
   "pygments_lexer": "ipython3",
   "version": "3.9.6"
  }
 },
 "nbformat": 4,
 "nbformat_minor": 2
}
