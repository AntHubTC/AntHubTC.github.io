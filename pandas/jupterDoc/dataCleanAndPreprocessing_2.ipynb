{
 "cells": [
  {
   "cell_type": "markdown",
   "metadata": {},
   "source": [
    "### 2.重命名列和索引\n",
    "\n",
    "在使用 Pandas 处理数据时，我们经常需要重命名列和索引，以便更好地理解和操作数据。以下是一些常用的方法来重命名 DataFrame 的列和索引。\n",
    "\n",
    "**重命名列**\n",
    "\n",
    "你可以使用 DataFrame.rename() 方法来重命名列。这里有几种方式：\n",
    "\n",
    "- 使用字典: 通过提供一个字典，指定旧列名称与新列名称的映射。"
   ]
  },
  {
   "cell_type": "code",
   "execution_count": null,
   "metadata": {},
   "outputs": [
    {
     "name": "stdout",
     "output_type": "stream",
     "text": [
      "重命名后的 DataFrame:\n",
      "   Math  English\n",
      "0     1        4\n",
      "1     2        5\n",
      "2     3        6\n"
     ]
    }
   ],
   "source": [
    "import pandas as pd\n",
    "\n",
    "# 示例 DataFrame\n",
    "df = pd.DataFrame({\n",
    "    'A': [1, 2, 3],\n",
    "    'B': [4, 5, 6]\n",
    "})\n",
    "\n",
    "# 重命名列\n",
    "df_renamed = df.rename(columns={'A': 'Math', 'B': 'English'})\n",
    "\n",
    "print(\"重命名后的 DataFrame:\")\n",
    "print(df_renamed)"
   ]
  },
  {
   "cell_type": "markdown",
   "metadata": {},
   "source": [
    "- 直接赋值给 columns: 也可以直接设置 DataFrame.columns 属性来重命名所有列。"
   ]
  },
  {
   "cell_type": "code",
   "execution_count": null,
   "metadata": {},
   "outputs": [
    {
     "name": "stdout",
     "output_type": "stream",
     "text": [
      "   column1  column2\n",
      "0        1        4\n",
      "1        2        5\n",
      "2        3        6\n"
     ]
    }
   ],
   "source": [
    "df.columns = ['column1', 'column2']\n",
    "print(df)"
   ]
  },
  {
   "cell_type": "markdown",
   "metadata": {},
   "source": [
    "**重命名索引**\n",
    "\n",
    "类似于重命名列，你也可以重命名索引（行标签）。使用 rename() 方法同样适用。\n",
    "\n"
   ]
  },
  {
   "cell_type": "code",
   "execution_count": null,
   "metadata": {},
   "outputs": [
    {
     "name": "stdout",
     "output_type": "stream",
     "text": [
      "\n",
      "重命名索引后的 DataFrame:\n",
      "         A  B\n",
      "Row_One  1  4\n",
      "Row_Two  2  5\n",
      "row3     3  6\n"
     ]
    }
   ],
   "source": [
    "# 示例 DataFrame\n",
    "df = pd.DataFrame({\n",
    "    'A': [1, 2, 3],\n",
    "    'B': [4, 5, 6]\n",
    "}, index=['row1', 'row2', 'row3'])\n",
    "\n",
    "# 重命名索引\n",
    "df_renamed_index = df.rename(index={'row1': 'Row_One', 'row2': 'Row_Two'})\n",
    "\n",
    "print(\"\\n重命名索引后的 DataFrame:\")\n",
    "print(df_renamed_index)"
   ]
  },
  {
   "cell_type": "markdown",
   "metadata": {},
   "source": [
    "**使用 set_axis()**\n",
    "\n",
    "同时更新列或索引。在这个方法中，你需要提供新的标签列表和相应的轴类型。"
   ]
  },
  {
   "cell_type": "code",
   "execution_count": null,
   "metadata": {},
   "outputs": [
    {
     "name": "stdout",
     "output_type": "stream",
     "text": [
      "\n",
      "使用 set_axis 重命名列后的 DataFrame:\n",
      "      Col_A  Col_B\n",
      "row1      1      4\n",
      "row2      2      5\n",
      "row3      3      6\n"
     ]
    }
   ],
   "source": [
    "# 使用 set_axis 重命名列\n",
    "df = df.set_axis(['Col_A', 'Col_B'], axis=1)\n",
    "\n",
    "print(\"\\n使用 set_axis 重命名列后的 DataFrame:\")\n",
    "print(df)"
   ]
  }
 ],
 "metadata": {
  "language_info": {
   "name": "python"
  }
 },
 "nbformat": 4,
 "nbformat_minor": 2
}
