{
 "cells": [
  {
   "cell_type": "markdown",
   "metadata": {},
   "source": [
    "### 3.数据类型转换\n",
    "\n",
    "在 Pandas 中，数据类型转换是非常重要的一步，通常用于确保数据的正确性和一致性。这可以通过 .astype() 方法来完成。"
   ]
  },
  {
   "cell_type": "code",
   "execution_count": null,
   "metadata": {},
   "outputs": [
    {
     "name": "stdout",
     "output_type": "stream",
     "text": [
      "A     int64\n",
      "B    object\n",
      "C      bool\n",
      "dtype: object\n"
     ]
    }
   ],
   "source": [
    "import pandas as pd\n",
    "\n",
    "# 创建一个示例 DataFrame\n",
    "data = {\n",
    "    'A': [1, 2, 3],\n",
    "    'B': ['4', '5', '6'],\n",
    "    'C': [True, False, True]\n",
    "}\n",
    "\n",
    "df = pd.DataFrame(data)\n",
    "\n",
    "# 查看每一列的数据类型\n",
    "print(df.dtypes)"
   ]
  },
  {
   "cell_type": "code",
   "execution_count": null,
   "metadata": {},
   "outputs": [
    {
     "name": "stdout",
     "output_type": "stream",
     "text": [
      "单列转换指定类型:\n",
      " A    float64\n",
      "B      int32\n",
      "C       bool\n",
      "dtype: object\n"
     ]
    }
   ],
   "source": [
    "\n",
    "# 使用 .astype() 方法可以将数据转换为指定类型\n",
    "# 将 B 列从字符串转换为整数\n",
    "df['B'] = df['B'].astype(int)\n",
    "# 将 A 列从整数转换为浮点数\n",
    "df['A'] = df['A'].astype(float)\n",
    "print(\"单列转换指定类型:\\n\", df.dtypes)"
   ]
  },
  {
   "cell_type": "code",
   "execution_count": null,
   "metadata": {},
   "outputs": [
    {
     "name": "stdout",
     "output_type": "stream",
     "text": [
      "多列同时数据转换:\n",
      " A    float64\n",
      "B      int32\n",
      "C     object\n",
      "dtype: object\n"
     ]
    }
   ],
   "source": [
    "\n",
    "# 同时将多列的数据类型转换\n",
    "df = df.astype({'A': 'float', 'B': 'int', 'C': 'str'})\n",
    "print(\"多列同时数据转换:\\n\", df.dtypes)"
   ]
  },
  {
   "cell_type": "code",
   "execution_count": null,
   "metadata": {},
   "outputs": [
    {
     "name": "stdout",
     "output_type": "stream",
     "text": [
      "to_numeric\n",
      "      A  B      C\n",
      "0  1.0  4   True\n",
      "1  2.0  5  False\n",
      "2  3.0  6   True\n"
     ]
    }
   ],
   "source": [
    "# 使用 pd.to_numeric 和 pd.to_datetime\n",
    "# 对于某些特定的转换，如将字符串转换为数字或日期，可以使用 Pandas 提供的函数。\n",
    "# 将字符串转换为数字（如果无法转换则会产生 NaN）\n",
    "df['B'] = pd.to_numeric(df['B'], errors='coerce')\n",
    "print(\"to_numeric\\n\", df)"
   ]
  },
  {
   "cell_type": "code",
   "execution_count": null,
   "metadata": {},
   "outputs": [
    {
     "name": "stdout",
     "output_type": "stream",
     "text": [
      "       dates\n",
      "0 2021-01-01\n",
      "1 2021-02-01\n",
      "2        NaT\n"
     ]
    }
   ],
   "source": [
    "# 将字符串转换为日期\n",
    "date_data = {\n",
    "    'dates': ['2021-01-01', '2021-02-01', 'invalid_date']\n",
    "}\n",
    "date_df = pd.DataFrame(date_data)\n",
    "date_df['dates'] = pd.to_datetime(date_df['dates'], errors='coerce')  # 无法解析的日期将被设为 NaT\n",
    "\n",
    "print(date_df)"
   ]
  },
  {
   "cell_type": "markdown",
   "metadata": {},
   "source": [
    "> 类型转换的小技巧\n",
    "> \n",
    "> - 处理缺失值：在转换数据类型之前，确保处理缺失值，以避免错误。\n",
    "> \n",
    "> - 性能考虑：在大型数据集上，合理选择数据类型（如使用 category 而非 object）可以显著提高性能。"
   ]
  },
  {
   "cell_type": "markdown",
   "metadata": {},
   "source": [
    "数据类型转换是数据预处理中的关键步骤，通过适当地转换数据类型，你可以确保数据分析的准确性以及提高分析效率。接下来，你可以继续阅读下一节关于“重塑数据”的内容。"
   ]
  }
 ],
 "metadata": {
  "language_info": {
   "name": "python"
  }
 },
 "nbformat": 4,
 "nbformat_minor": 2
}
