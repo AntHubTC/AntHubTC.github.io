{
 "cells": [
  {
   "cell_type": "markdown",
   "metadata": {},
   "source": [
    "## 数据结构基础\n",
    "\n",
    "### 1. 创建 Series 和 DataFrame\n",
    "\n",
    "**创建 Series**\n",
    "\n",
    "Series 是 Pandas 中的一维数组，类似于 Python 的列表或 NumPy 的一维数组。它可以包含任何数据类型，并且具有一个与之关联的索引。"
   ]
  },
  {
   "cell_type": "code",
   "execution_count": 2,
   "metadata": {},
   "outputs": [
    {
     "name": "stdout",
     "output_type": "stream",
     "text": [
      "Series:\n",
      "0    10\n",
      "1    20\n",
      "2    30\n",
      "3    40\n",
      "dtype: int64\n",
      "\n",
      "带有自定义索引的 Series:\n",
      "a    10\n",
      "b    20\n",
      "c    30\n",
      "d    40\n",
      "dtype: int64\n"
     ]
    }
   ],
   "source": [
    "import pandas as pd\n",
    "\n",
    "data = [10, 20, 30, 40]\n",
    "\n",
    "# 创建一个简单的 Series\n",
    "s = pd.Series(data)\n",
    "print(\"Series:\")\n",
    "print(s)\n",
    "\n",
    "# 指定自定义索引\n",
    "s_with_index = pd.Series(data, index=['a', 'b', 'c', 'd'])\n",
    "print(\"\\n带有自定义索引的 Series:\")\n",
    "print(s_with_index)"
   ]
  },
  {
   "cell_type": "markdown",
   "metadata": {},
   "source": [
    "创建 DataFrame\n",
    "\n",
    "DataFrame 是 Pandas 中的二维数组，类似于电子表格或 SQL 表格。它由多列组成，每一列都是一个 Series。"
   ]
  },
  {
   "cell_type": "code",
   "execution_count": 4,
   "metadata": {},
   "outputs": [
    {
     "name": "stdout",
     "output_type": "stream",
     "text": [
      "\n",
      "DataFrame:\n",
      "      Name  Age  Salary\n",
      "0    Alice   30   70000\n",
      "1      Bob   25   60000\n",
      "2  Charlie   35   80000\n",
      "\n",
      "带有自定义索引的 DataFrame:\n",
      "      Name  Age  Salary\n",
      "A    Alice   30   70000\n",
      "B      Bob   25   60000\n",
      "C  Charlie   35   80000\n"
     ]
    }
   ],
   "source": [
    "# 创建一个简单的 DataFrame\n",
    "data = {\n",
    "    'Name': ['Alice', 'Bob', 'Charlie'],\n",
    "    'Age': [30, 25, 35],\n",
    "    'Salary': [70000, 60000, 80000]\n",
    "}\n",
    "df = pd.DataFrame(data)\n",
    "print(\"\\nDataFrame:\")\n",
    "print(df)\n",
    "\n",
    "# 指定自定义索引\n",
    "df_with_index = pd.DataFrame(data, index=['A', 'B', 'C'])\n",
    "print(\"\\n带有自定义索引的 DataFrame:\")\n",
    "print(df_with_index)"
   ]
  },
  {
   "cell_type": "markdown",
   "metadata": {},
   "source": [
    "###  2. 索引和切片\n",
    "\n",
    "#### a.使用标签索引\n",
    "\n",
    "通过行标签和列标签访问特定的数据。"
   ]
  },
  {
   "cell_type": "code",
   "execution_count": 11,
   "metadata": {},
   "outputs": [
    {
     "name": "stdout",
     "output_type": "stream",
     "text": [
      "\n",
      "选择单行（标签为 'A' 的行）:\n",
      "Name      Alice\n",
      "Age          30\n",
      "Salary    70000\n",
      "Name: A, dtype: object\n",
      "\n",
      "选择单列（'Name' 列）:\n",
      "A      Alice\n",
      "B        Bob\n",
      "C    Charlie\n",
      "Name: Name, dtype: object\n",
      "\n",
      "选择多行（标签为 'A' 和 'B' 的行）:\n",
      "    Name  Age  Salary\n",
      "A  Alice   30   70000\n",
      "B    Bob   25   60000\n"
     ]
    }
   ],
   "source": [
    "# 选择单行\n",
    "print(\"\\n选择单行（标签为 'A' 的行）:\")\n",
    "print(df_with_index.loc['A'])\n",
    "\n",
    "\n",
    "# 选择单列\n",
    "print(\"\\n选择单列（'Name' 列）:\")\n",
    "print(df_with_index['Name'])\n",
    "\n",
    "# 选择多行\n",
    "print(\"\\n选择多行（标签为 'A' 和 'B' 的行）:\")\n",
    "print(df_with_index.loc[['A', 'B']])\n"
   ]
  },
  {
   "cell_type": "markdown",
   "metadata": {},
   "source": [
    "#### b. 使用位置索引\n",
    "\n",
    "通过行和列的位置来访问数据。"
   ]
  },
  {
   "cell_type": "code",
   "execution_count": 15,
   "metadata": {},
   "outputs": [
    {
     "name": "stdout",
     "output_type": "stream",
     "text": [
      "\n",
      "选择第一行（位置为 0 的行）:\n",
      "Name      Alice\n",
      "Age          30\n",
      "Salary    70000\n",
      "Name: 0, dtype: object\n",
      "\n",
      "选择第一列（位置为 0 的列）:\n",
      "0      Alice\n",
      "1        Bob\n",
      "2    Charlie\n",
      "Name: Name, dtype: object\n",
      "\n",
      "选择第一行第一列的值:\n",
      "Alice\n"
     ]
    }
   ],
   "source": [
    "# 选择第一行\n",
    "print(\"\\n选择第一行（位置为 0 的行）:\")\n",
    "print(df.iloc[0])\n",
    "\n",
    "# 选择第一列\n",
    "print(\"\\n选择第一列（位置为 0 的列）:\")\n",
    "print(df.iloc[:, 0])\n",
    "\n",
    "# 选择特定位置的值（第一行第一列）\n",
    "print(\"\\n选择第一行第一列的值:\")\n",
    "print(df.iat[0, 0])  # 输出 'Alice'"
   ]
  },
  {
   "cell_type": "markdown",
   "metadata": {},
   "source": [
    "###  3. 选择和过滤数据\n",
    "\n",
    "您可以根据条件选择和过滤数据。"
   ]
  },
  {
   "cell_type": "code",
   "execution_count": 18,
   "metadata": {},
   "outputs": [
    {
     "name": "stdout",
     "output_type": "stream",
     "text": [
      "\n",
      "年龄大于 30 的人:\n",
      "      Name  Age  Salary\n",
      "2  Charlie   35   80000\n",
      "\n",
      "工资在 60000 到 70000 之间的人:\n",
      "    Name  Age  Salary\n",
      "0  Alice   30   70000\n",
      "1    Bob   25   60000\n"
     ]
    }
   ],
   "source": [
    "# 选择年龄大于 30 的人\n",
    "filtered_df = df[df['Age'] > 30]\n",
    "print(\"\\n年龄大于 30 的人:\")\n",
    "print(filtered_df)\n",
    "\n",
    "# 选择工资在 60000 到 70000 之间的人\n",
    "filtered_salary = df[(df['Salary'] >= 60000) & (df['Salary'] <= 70000)]\n",
    "print(\"\\n工资在 60000 到 70000 之间的人:\")\n",
    "print(filtered_salary)"
   ]
  },
  {
   "cell_type": "markdown",
   "metadata": {},
   "source": [
    "###  4.  常用属性\n",
    "\n",
    "- shape\n",
    "  \n",
    "  返回 DataFrame 的形状（行数和列数）。"
   ]
  },
  {
   "cell_type": "code",
   "execution_count": 20,
   "metadata": {},
   "outputs": [
    {
     "name": "stdout",
     "output_type": "stream",
     "text": [
      "\n",
      "DataFrame 的形状:\n",
      "(3, 3)\n"
     ]
    }
   ],
   "source": [
    "print(\"\\nDataFrame 的形状:\")\n",
    "print(df.shape)  # (行数, 列数)"
   ]
  },
  {
   "cell_type": "markdown",
   "metadata": {},
   "source": [
    "- dtypes\n",
    "  \n",
    "  返回每一列的数据类型。"
   ]
  },
  {
   "cell_type": "code",
   "execution_count": 22,
   "metadata": {},
   "outputs": [
    {
     "name": "stdout",
     "output_type": "stream",
     "text": [
      "\n",
      "DataFrame 每列的数据类型:\n",
      "Name      object\n",
      "Age        int64\n",
      "Salary     int64\n",
      "dtype: object\n"
     ]
    }
   ],
   "source": [
    "print(\"\\nDataFrame 每列的数据类型:\")\n",
    "print(df.dtypes)"
   ]
  },
  {
   "cell_type": "markdown",
   "metadata": {},
   "source": [
    "- index\n",
    "  \n",
    "  返回 DataFrame 的索引。"
   ]
  },
  {
   "cell_type": "code",
   "execution_count": 24,
   "metadata": {},
   "outputs": [
    {
     "name": "stdout",
     "output_type": "stream",
     "text": [
      "\n",
      "DataFrame 的索引:\n",
      "RangeIndex(start=0, stop=3, step=1)\n"
     ]
    }
   ],
   "source": [
    "print(\"\\nDataFrame 的索引:\")\n",
    "print(df.index)"
   ]
  },
  {
   "cell_type": "markdown",
   "metadata": {},
   "source": [
    "- columns\n",
    "  \n",
    "  返回 DataFrame 的列名。"
   ]
  },
  {
   "cell_type": "code",
   "execution_count": 25,
   "metadata": {},
   "outputs": [
    {
     "name": "stdout",
     "output_type": "stream",
     "text": [
      "\n",
      "DataFrame 的列名:\n",
      "Index(['Name', 'Age', 'Salary'], dtype='object')\n"
     ]
    }
   ],
   "source": [
    "print(\"\\nDataFrame 的列名:\")\n",
    "print(df.columns)"
   ]
  }
 ],
 "metadata": {
  "kernelspec": {
   "display_name": "Python 3",
   "language": "python",
   "name": "python3"
  },
  "language_info": {
   "codemirror_mode": {
    "name": "ipython",
    "version": 3
   },
   "file_extension": ".py",
   "mimetype": "text/x-python",
   "name": "python",
   "nbconvert_exporter": "python",
   "pygments_lexer": "ipython3",
   "version": "3.9.6"
  }
 },
 "nbformat": 4,
 "nbformat_minor": 2
}
