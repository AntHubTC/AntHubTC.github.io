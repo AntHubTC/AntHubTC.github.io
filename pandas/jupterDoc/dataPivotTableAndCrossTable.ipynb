{
 "cells": [
  {
   "cell_type": "markdown",
   "metadata": {},
   "source": [
    "# 数据透视表与交叉表\n",
    "\n",
    "##  数据透视表（Pivot Table）\n",
    "\n",
    "数据透视表是一种用于总结、分析、探索和展示数据的工具。它允许我们从一个 DataFrame 中生成汇总信息，并重新排布数据，使其更易于理解。\n",
    "\n",
    "```python\n",
    "# values：要汇总的列。\n",
    "# index：用于行索引的列。\n",
    "# columns：用于列索引的列。\n",
    "# aggfunc：聚合函数，默认为 mean；可以是 sum, count, min, max 等。\n",
    "# fill_value：填充缺失值。\n",
    "DataFrame.pivot_table(values=None, index=None, columns=None, aggfunc='mean', fill_value=None)\n",
    "```"
   ]
  },
  {
   "cell_type": "code",
   "execution_count": 3,
   "metadata": {},
   "outputs": [
    {
     "name": "stdout",
     "output_type": "stream",
     "text": [
      "\n",
      "数据透视表结果:\n",
      "产品           A   B\n",
      "日期                \n",
      "2023-01-01  10  20\n",
      "2023-01-02  15  25\n"
     ]
    }
   ],
   "source": [
    "import pandas as pd\n",
    "\n",
    "# 创建示例 DataFrame\n",
    "data = {\n",
    "    '日期': ['2023-01-01', '2023-01-01', '2023-01-02', '2023-01-02'],\n",
    "    '产品': ['A', 'B', 'A', 'B'],\n",
    "    '销量': [10, 20, 15, 25]\n",
    "}\n",
    "\n",
    "df = pd.DataFrame(data)\n",
    "\n",
    "# 创建数据透视表，汇总每天每种产品的销量\n",
    "pivot_table = df.pivot_table(values='销量', index='日期', columns='产品', aggfunc='sum', fill_value=0)\n",
    "print(\"\\n数据透视表结果:\")\n",
    "print(pivot_table)"
   ]
  },
  {
   "cell_type": "markdown",
   "metadata": {},
   "source": [
    "## 交叉表（Crosstab）\n",
    "\n",
    "交叉表是另一种用于总结分类数据的工具，类似于数据透视表，但通常用于观察两个或多个变量之间的关系。它也适用于计算频率分布。\n",
    "\n",
    "```python\n",
    "# index：行索引。\n",
    "# columns：列索引。\n",
    "# values：要聚合的值（可选）。\n",
    "# aggfunc：聚合函数（可选）。\n",
    "# margins：是否添加总计行和列。\n",
    "# margins_name：总计行和列的名称。\n",
    "pd.crosstab(index, columns, values=None, aggfunc=None, margins=False, margins_name='All')\n",
    "```"
   ]
  },
  {
   "cell_type": "code",
   "execution_count": 7,
   "metadata": {},
   "outputs": [
    {
     "name": "stdout",
     "output_type": "stream",
     "text": [
      "\n",
      "交叉表结果:\n",
      "购买   否  是  All\n",
      "性别            \n",
      "女    1  1    2\n",
      "男    1  2    3\n",
      "All  2  3    5\n"
     ]
    }
   ],
   "source": [
    "# 创建示例 DataFrame\n",
    "data2 = {\n",
    "    '性别': ['男', '女', '女', '男', '男'],\n",
    "    '购买': ['是', '否', '是', '是', '否']\n",
    "}\n",
    "\n",
    "df2 = pd.DataFrame(data2)\n",
    "\n",
    "# 创建交叉表，统计性别与购买行为的关系\n",
    "crosstab_result = pd.crosstab(index=df2['性别'], columns=df2['购买'], margins=True)\n",
    "print(\"\\n交叉表结果:\")\n",
    "print(crosstab_result)"
   ]
  },
  {
   "cell_type": "markdown",
   "metadata": {},
   "source": [
    "通过使用数据透视表和交叉表，我们能够有效地总结和分析数据。这些工具在商业分析、市场研究和其他许多领域都非常实用。"
   ]
  }
 ],
 "metadata": {
  "kernelspec": {
   "display_name": "Python 3",
   "language": "python",
   "name": "python3"
  },
  "language_info": {
   "codemirror_mode": {
    "name": "ipython",
    "version": 3
   },
   "file_extension": ".py",
   "mimetype": "text/x-python",
   "name": "python",
   "nbconvert_exporter": "python",
   "pygments_lexer": "ipython3",
   "version": "3.9.6"
  }
 },
 "nbformat": 4,
 "nbformat_minor": 2
}
