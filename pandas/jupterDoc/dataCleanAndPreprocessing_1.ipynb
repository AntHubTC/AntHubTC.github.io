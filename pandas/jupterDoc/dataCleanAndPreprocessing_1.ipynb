{
 "cells": [
  {
   "cell_type": "markdown",
   "metadata": {},
   "source": [
    "## 数据清洗与预处理\n",
    "\n",
    "### 1. 处理缺失值：填充、删除\n",
    "\n",
    "处理缺失值是数据清洗和预处理中的重要步骤。Pandas 提供了多种方法来处理缺失值，包括填充缺失值和删除包含缺失值的行或列。"
   ]
  },
  {
   "cell_type": "code",
   "execution_count": 11,
   "metadata": {},
   "outputs": [
    {
     "name": "stdout",
     "output_type": "stream",
     "text": [
      "原始 DataFrame:\n",
      "    Name   Age   Salary\n",
      "0  Alice  30.0  70000.0\n",
      "1    Bob   NaN  60000.0\n",
      "2    NaN  35.0  80000.0\n",
      "3  David  40.0      NaN\n",
      "4    Eve   NaN  65000.0\n"
     ]
    }
   ],
   "source": [
    "import pandas as pd\n",
    "import numpy as np\n",
    "\n",
    "# 创建一个示例 DataFrame，包含一些缺失值\n",
    "data = {\n",
    "    'Name': ['Alice', 'Bob', np.nan, 'David', 'Eve'],\n",
    "    'Age': [30, np.nan, 35, 40, np.nan],\n",
    "    'Salary': [70000, 60000, 80000, np.nan, 65000]\n",
    "}\n",
    "\n",
    "df = pd.DataFrame(data)\n",
    "print(\"原始 DataFrame:\")\n",
    "print(df)"
   ]
  },
  {
   "cell_type": "code",
   "execution_count": 5,
   "metadata": {},
   "outputs": [
    {
     "name": "stdout",
     "output_type": "stream",
     "text": [
      "\n",
      "使用常量 0 填充缺失值:\n",
      "    Name   Age   Salary\n",
      "0  Alice  30.0  70000.0\n",
      "1    Bob   0.0  60000.0\n",
      "2      0  35.0  80000.0\n",
      "3  David  40.0      0.0\n",
      "4    Eve   0.0  65000.0\n"
     ]
    }
   ],
   "source": [
    "# 填充缺失值\n",
    "# 使用常量填充缺失值\n",
    "filled_df_constant = df.fillna(0)\n",
    "print(\"\\n使用常量 0 填充缺失值:\")\n",
    "print(filled_df_constant)"
   ]
  },
  {
   "cell_type": "code",
   "execution_count": 13,
   "metadata": {},
   "outputs": [
    {
     "name": "stdout",
     "output_type": "stream",
     "text": [
      "\n",
      "使用均值填充缺失值:\n",
      "    Age   Salary\n",
      "0  30.0  70000.0\n",
      "1  35.0  60000.0\n",
      "2  35.0  80000.0\n",
      "3  40.0  68750.0\n",
      "4  35.0  65000.0\n"
     ]
    }
   ],
   "source": [
    "# 使用均值填充缺失值\n",
    "num_cols = df.select_dtypes(include=['number']).columns # 基于列类型选择列\n",
    "# df[num_cols] = df[num_cols].fillna(df[num_cols].mean())  # 填充均值，填充后还需要赋值回去\n",
    "filled_df_mean = df[num_cols].fillna(df[num_cols].mean())\n",
    "print(\"\\n使用均值填充缺失值:\")\n",
    "print(filled_df_mean)"
   ]
  },
  {
   "cell_type": "code",
   "execution_count": 20,
   "metadata": {},
   "outputs": [
    {
     "name": "stdout",
     "output_type": "stream",
     "text": [
      "\n",
      "使用前向填充（ffill）填充缺失值:\n",
      "    Name   Age   Salary\n",
      "0  Alice  30.0  70000.0\n",
      "1    Bob  30.0  60000.0\n",
      "2    Bob  35.0  80000.0\n",
      "3  David  40.0  80000.0\n",
      "4    Eve  40.0  65000.0\n"
     ]
    }
   ],
   "source": [
    "# 使用前向填充（ffill） 使用上一条数据填充下一条\n",
    "# filled_df_ffill = df.fillna(method='ffill') # deprecated \n",
    "filled_df_ffill = df.ffill()\n",
    "print(\"\\n使用前向填充（ffill）填充缺失值:\")\n",
    "print(filled_df_ffill)"
   ]
  },
  {
   "cell_type": "code",
   "execution_count": 23,
   "metadata": {},
   "outputs": [
    {
     "name": "stdout",
     "output_type": "stream",
     "text": [
      "\n",
      "使用后向填充（bfill）填充缺失值:\n",
      "    Name   Age   Salary\n",
      "0  Alice  30.0  70000.0\n",
      "1    Bob  35.0  60000.0\n",
      "2  David  35.0  80000.0\n",
      "3  David  40.0  65000.0\n",
      "4    Eve   NaN  65000.0\n"
     ]
    }
   ],
   "source": [
    "# 使用后向填充（bfill）\n",
    "# filled_df_bfill = df.fillna(method='bfill') #deprecated\n",
    "filled_df_bfill = df.bfill()\n",
    "print(\"\\n使用后向填充（bfill）填充缺失值:\")\n",
    "print(filled_df_bfill)"
   ]
  },
  {
   "cell_type": "code",
   "execution_count": 27,
   "metadata": {},
   "outputs": [
    {
     "name": "stdout",
     "output_type": "stream",
     "text": [
      "\n",
      "删除包含缺失值的行:\n",
      "    Name   Age   Salary\n",
      "0  Alice  30.0  70000.0\n"
     ]
    }
   ],
   "source": [
    "# 删除缺失值\n",
    "# 删除包含缺失值的行\n",
    "dropped_rows = df.dropna()\n",
    "print(\"\\n删除包含缺失值的行:\")\n",
    "print(dropped_rows)"
   ]
  },
  {
   "cell_type": "code",
   "execution_count": 29,
   "metadata": {},
   "outputs": [
    {
     "name": "stdout",
     "output_type": "stream",
     "text": [
      "\n",
      "删除包含缺失值的列:\n",
      "Empty DataFrame\n",
      "Columns: []\n",
      "Index: [0, 1, 2, 3, 4]\n"
     ]
    }
   ],
   "source": [
    "# 删除包含缺失值的列\n",
    "dropped_columns = df.dropna(axis=1)\n",
    "print(\"\\n删除包含缺失值的列:\")\n",
    "print(dropped_columns)"
   ]
  },
  {
   "cell_type": "markdown",
   "metadata": {},
   "source": [
    "实际使用的时候，先选择某些数据或数据列，然后使用dropna()方法删除缺失值。"
   ]
  }
 ],
 "metadata": {
  "kernelspec": {
   "display_name": "Python 3",
   "language": "python",
   "name": "python3"
  },
  "language_info": {
   "codemirror_mode": {
    "name": "ipython",
    "version": 3
   },
   "file_extension": ".py",
   "mimetype": "text/x-python",
   "name": "python",
   "nbconvert_exporter": "python",
   "pygments_lexer": "ipython3",
   "version": "3.9.6"
  }
 },
 "nbformat": 4,
 "nbformat_minor": 2
}
