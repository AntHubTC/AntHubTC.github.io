{
 "cells": [
  {
   "cell_type": "markdown",
   "metadata": {},
   "source": [
    "## 重塑数据：透视表和堆叠/取消堆叠\n",
    "\n",
    "在数据分析中，重塑数据可以帮助我们更好地理解数据的结构和关系。Pandas 提供了多种方法来进行数据的重塑，其中最常用的方法包括透视表（pivot_table）、堆叠（stack）和取消堆叠（unstack）。\n",
    "\n",
    "### 1. 透视表（Pivot Table）\n",
    "\n",
    "透视表是一种强大的工具，可以通过指定行、列和聚合函数来汇总数据。\n",
    "\n",
    "基本语法：\n",
    "\n",
    "```python\n",
    "DataFrame.pivot_table(values=None, index=None, columns=None, aggfunc='mean', fill_value=None)\n",
    "```\n",
    "\n",
    "示例："
   ]
  },
  {
   "cell_type": "code",
   "execution_count": 2,
   "metadata": {},
   "outputs": [
    {
     "name": "stdout",
     "output_type": "stream",
     "text": [
      "城市           上海   北京\n",
      "日期                  \n",
      "2023-01-01  200  100\n",
      "2023-01-02  250  150\n"
     ]
    }
   ],
   "source": [
    "import pandas as pd\n",
    "\n",
    "# 创建一个示例 DataFrame\n",
    "data = {\n",
    "    '日期': ['2023-01-01', '2023-01-01', '2023-01-02', '2023-01-02'],\n",
    "    '城市': ['北京', '上海', '北京', '上海'],\n",
    "    '销售额': [100, 200, 150, 250]\n",
    "}\n",
    "\n",
    "df = pd.DataFrame(data)\n",
    "\n",
    "# 创建透视表\n",
    "pivot_table = df.pivot_table(values='销售额', index='日期', columns='城市', aggfunc='sum', fill_value=0)\n",
    "\n",
    "print(pivot_table)\n"
   ]
  },
  {
   "cell_type": "markdown",
   "metadata": {},
   "source": [
    "### 2. 堆叠（Stack）\n",
    "\n",
    "stack 方法用于将某一层级的列转换为行，使数据更加紧凑并便于进一步分析。"
   ]
  },
  {
   "cell_type": "code",
   "execution_count": 4,
   "metadata": {},
   "outputs": [
    {
     "name": "stdout",
     "output_type": "stream",
     "text": [
      "日期          城市\n",
      "2023-01-01  上海    200\n",
      "            北京    100\n",
      "2023-01-02  上海    250\n",
      "            北京    150\n",
      "dtype: int64\n"
     ]
    }
   ],
   "source": [
    "# 使用刚才的透视表进行堆叠\n",
    "stacked_df = pivot_table.stack()\n",
    "\n",
    "print(stacked_df)"
   ]
  },
  {
   "cell_type": "markdown",
   "metadata": {},
   "source": [
    "### 3. 取消堆叠（Unstack）\n",
    "\n",
    "unstack 方法则是将行转换为列，将堆叠后的数据恢复为原来的形状或相似的形状。"
   ]
  },
  {
   "cell_type": "code",
   "execution_count": 6,
   "metadata": {},
   "outputs": [
    {
     "name": "stdout",
     "output_type": "stream",
     "text": [
      "城市           上海   北京\n",
      "日期                  \n",
      "2023-01-01  200  100\n",
      "2023-01-02  250  150\n"
     ]
    }
   ],
   "source": [
    "# 解除堆叠\n",
    "unstacked_df = stacked_df.unstack()\n",
    "\n",
    "print(unstacked_df)"
   ]
  },
  {
   "cell_type": "markdown",
   "metadata": {},
   "source": [
    "### 4. 多层索引\n",
    "\n",
    "Pandas 的 stack 和 unstack 可以处理多层索引的数据，可以在不同层次上进行操作。"
   ]
  },
  {
   "cell_type": "code",
   "execution_count": 9,
   "metadata": {},
   "outputs": [
    {
     "name": "stdout",
     "output_type": "stream",
     "text": [
      "             上海   北京\n",
      "2023-01-01  200  100\n",
      "2023-01-02  250  150\n",
      "------------------------------\n",
      "2023-01-01  上海    200\n",
      "            北京    100\n",
      "2023-01-02  上海    250\n",
      "            北京    150\n",
      "dtype: int64\n"
     ]
    }
   ],
   "source": [
    "# 创建一个多层索引的 DataFrame\n",
    "multi_index_data = {\n",
    "    ('2023-01-01', '北京'): 100,\n",
    "    ('2023-01-01', '上海'): 200,\n",
    "    ('2023-01-02', '北京'): 150,\n",
    "    ('2023-01-02', '上海'): 250\n",
    "}\n",
    "\n",
    "multi_index_df = pd.Series(multi_index_data)\n",
    "\n",
    "# 转换为 DataFrame 格式\n",
    "multi_df = multi_index_df.unstack()\n",
    "\n",
    "print(multi_df)\n",
    "\n",
    "print('-' * 30)\n",
    "\n",
    "# 堆叠多层索引\n",
    "stacked_multi = multi_df.stack()\n",
    "print(stacked_multi)"
   ]
  },
  {
   "cell_type": "markdown",
   "metadata": {},
   "source": [
    "通过使用透视表、堆叠和取消堆叠的方法，你可以灵活地重塑数据，以便于后续的分析和可视化。这些工具在进行数据汇总和比较时非常有用。"
   ]
  }
 ],
 "metadata": {
  "kernelspec": {
   "display_name": "Python 3",
   "language": "python",
   "name": "python3"
  },
  "language_info": {
   "codemirror_mode": {
    "name": "ipython",
    "version": 3
   },
   "file_extension": ".py",
   "mimetype": "text/x-python",
   "name": "python",
   "nbconvert_exporter": "python",
   "pygments_lexer": "ipython3",
   "version": "3.9.6"
  }
 },
 "nbformat": 4,
 "nbformat_minor": 2
}
