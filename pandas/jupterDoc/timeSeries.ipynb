{
 "cells": [
  {
   "cell_type": "markdown",
   "metadata": {},
   "source": [
    "# 时间序列处理\n",
    "\n",
    "## 日期时间数据的处理\n",
    "\n",
    "在 Pandas 中，我们可以使用 pd.to_datetime() 函数将字符串转换为日期时间类型，这样可以进行更复杂的日期时间操作"
   ]
  },
  {
   "cell_type": "code",
   "execution_count": 26,
   "metadata": {},
   "outputs": [
    {
     "name": "stdout",
     "output_type": "stream",
     "text": [
      "\n",
      "转换后的日期时间数据:\n",
      "DatetimeIndex(['2023-01-01', '2023-02-01', '2023-03-01'], dtype='datetime64[ns]', freq=None)\n",
      "\n",
      "DataFrame 示例:\n",
      "          日期   销量\n",
      "0 2023-01-01  100\n",
      "1 2023-02-01  150\n",
      "2 2023-03-01  200\n"
     ]
    }
   ],
   "source": [
    "import pandas as pd\n",
    "\n",
    "# 创建日期时间字符串的列表\n",
    "date_strings = ['2023-01-01', '2023-02-01', '2023-03-01']\n",
    "\n",
    "# 转换为日期时间对象\n",
    "dates = pd.to_datetime(date_strings)\n",
    "print(\"\\n转换后的日期时间数据:\")\n",
    "print(dates)\n",
    "\n",
    "# 创建一个带有日期的 DataFrame\n",
    "data = {\n",
    "    '日期': dates,\n",
    "    '销量': [100, 150, 200]\n",
    "}\n",
    "df_dates = pd.DataFrame(data)\n",
    "\n",
    "print(\"\\nDataFrame 示例:\")\n",
    "print(df_dates)"
   ]
  },
  {
   "cell_type": "markdown",
   "metadata": {},
   "source": [
    "## 使用 Pandas 进行时间序列分析\n",
    "\n",
    "Pandas 提供了丰富的功能来处理时间序列数据，包括索引设置、切片、筛选等。设置日期为索引后，我们可以利用 Pandas 的时间序列功能。"
   ]
  },
  {
   "cell_type": "code",
   "execution_count": 27,
   "metadata": {},
   "outputs": [
    {
     "name": "stdout",
     "output_type": "stream",
     "text": [
      "\n",
      "设置索引后的 DataFrame:\n",
      "             销量\n",
      "日期             \n",
      "2023-01-01  100\n",
      "2023-02-01  150\n",
      "2023-03-01  200\n",
      "\n",
      "选择特定日期的数据:\n",
      "销量    150\n",
      "Name: 2023-02-01 00:00:00, dtype: int64\n"
     ]
    }
   ],
   "source": [
    "# 将日期设置为 DataFrame 的索引\n",
    "df_dates.set_index('日期', inplace=True)\n",
    "\n",
    "# 查看 DataFrame\n",
    "print(\"\\n设置索引后的 DataFrame:\")\n",
    "print(df_dates)\n",
    "\n",
    "# 切片操作\n",
    "print(\"\\n选择特定日期的数据:\")\n",
    "print(df_dates.loc['2023-02-01'])"
   ]
  },
  {
   "cell_type": "markdown",
   "metadata": {},
   "source": [
    "## 重采样与频率转换\n",
    "\n",
    "Pandas 提供了丰富的功能来处理时间序列数据，包括索引设置、切片、筛选等。设置日期为索引后，我们可以利用 Pandas 的时间序列功能。\n",
    "\n",
    "示例："
   ]
  },
  {
   "cell_type": "code",
   "execution_count": 43,
   "metadata": {},
   "outputs": [
    {
     "name": "stdout",
     "output_type": "stream",
     "text": [
      "\n",
      "示例销售数据:\n",
      "             销量\n",
      "2023-01-01  100\n",
      "2023-01-02  120\n",
      "2023-01-03  140\n",
      "2023-01-04  130\n",
      "2023-01-05  150\n",
      "2023-01-06  165\n",
      "2023-01-07  180\n",
      "2023-01-08  200\n",
      "2023-01-09  220\n",
      "2023-01-10  240\n",
      "\n",
      "每周销售总额:\n",
      "              销量\n",
      "2023-01-01   100\n",
      "2023-01-08  1085\n",
      "2023-01-15   460\n"
     ]
    }
   ],
   "source": [
    "# 创建一个示例 DataFrame\n",
    "date_range = pd.date_range(start='2023-01-01', periods=10, freq='D')\n",
    "sales_data = [100, 120, 140, 130, 150, 165, 180, 200, 220, 240]\n",
    "df_sales = pd.DataFrame({'销量': sales_data}, index=date_range)\n",
    "\n",
    "print(\"\\n示例销售数据:\")\n",
    "print(df_sales)\n",
    "\n",
    "# 重采样为每周的总销量  'D' 表示天，'W' 表示周，'ME' 表示月\n",
    "weekly_sales = df_sales.resample('1W').sum()\n",
    "print(\"\\n每周销售总额:\")\n",
    "print(weekly_sales)\n"
   ]
  },
  {
   "cell_type": "markdown",
   "metadata": {},
   "source": [
    "## 时间序列的移动窗口操作\n",
    "\n",
    "移动窗口操作允许我们对数据应用滚动计算，例如计算移动平均、移动标准差等。可以使用 rolling() 方法实现。"
   ]
  },
  {
   "cell_type": "code",
   "execution_count": 46,
   "metadata": {},
   "outputs": [
    {
     "name": "stdout",
     "output_type": "stream",
     "text": [
      "\n",
      "3日移动平均:\n",
      "                    销量\n",
      "2023-01-01         NaN\n",
      "2023-01-02         NaN\n",
      "2023-01-03  120.000000\n",
      "2023-01-04  130.000000\n",
      "2023-01-05  140.000000\n",
      "2023-01-06  148.333333\n",
      "2023-01-07  165.000000\n",
      "2023-01-08  181.666667\n",
      "2023-01-09  200.000000\n",
      "2023-01-10  220.000000\n"
     ]
    }
   ],
   "source": [
    "# 计算移动平均\n",
    "rolling_mean = df_sales.rolling(window=3).mean()\n",
    "print(\"\\n3日移动平均:\")\n",
    "print(rolling_mean)"
   ]
  }
 ],
 "metadata": {
  "kernelspec": {
   "display_name": "Python 3",
   "language": "python",
   "name": "python3"
  },
  "language_info": {
   "codemirror_mode": {
    "name": "ipython",
    "version": 3
   },
   "file_extension": ".py",
   "mimetype": "text/x-python",
   "name": "python",
   "nbconvert_exporter": "python",
   "pygments_lexer": "ipython3",
   "version": "3.9.6"
  }
 },
 "nbformat": 4,
 "nbformat_minor": 2
}
