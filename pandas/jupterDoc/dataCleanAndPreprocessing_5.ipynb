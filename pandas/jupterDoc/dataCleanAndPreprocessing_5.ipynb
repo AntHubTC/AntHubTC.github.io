{
 "cells": [
  {
   "cell_type": "markdown",
   "metadata": {},
   "source": [
    "## 数据去重\n",
    "\n",
    "在分析和处理数据时，可能会遇到重复的行或数据，这会影响后续的分析结果。Pandas 提供了方便的方法来检测和去除这些重复项。\n",
    "\n",
    "### 1. 检查重复数据\n",
    "使用 DataFrame.duplicated() 方法可以检查 DataFrame 中是否存在重复的行。"
   ]
  },
  {
   "cell_type": "code",
   "execution_count": 9,
   "metadata": {},
   "outputs": [
    {
     "name": "stdout",
     "output_type": "stream",
     "text": [
      "        姓名  年龄  城市\n",
      "0    Alice  25  北京\n",
      "1      Bob  35  上海\n",
      "2    Alice  25  北京\n",
      "3  Charlie  35  广州\n",
      "------------------------------\n",
      "0    False\n",
      "1    False\n",
      "2     True\n",
      "3    False\n",
      "dtype: bool\n"
     ]
    }
   ],
   "source": [
    "import pandas as pd\n",
    "\n",
    "# 创建一个示例 DataFrame\n",
    "data = {\n",
    "    '姓名': ['Alice', 'Bob', 'Alice', 'Charlie'],\n",
    "    '年龄': [25, 35, 25, 35],\n",
    "    '城市': ['北京', '上海', '北京', '广州']\n",
    "}\n",
    "\n",
    "df = pd.DataFrame(data)\n",
    "print(df)\n",
    "\n",
    "print(\"-\" * 30)\n",
    "# 检查重复行\n",
    "duplicates = df.duplicated()\n",
    "print(duplicates)"
   ]
  },
  {
   "cell_type": "markdown",
   "metadata": {},
   "source": [
    "### 2. 删除重复数据\n",
    "\n",
    "通过 DataFrame.drop_duplicates() 方法可以删除重复的行。默认情况下，该方法会保留第一次出现的记录。"
   ]
  },
  {
   "cell_type": "code",
   "execution_count": 7,
   "metadata": {},
   "outputs": [
    {
     "name": "stdout",
     "output_type": "stream",
     "text": [
      "        姓名  年龄  城市\n",
      "0    Alice  25  北京\n",
      "1      Bob  30  上海\n",
      "3  Charlie  35  广州\n"
     ]
    }
   ],
   "source": [
    "# 删除重复的行\n",
    "df_no_duplicates = df.drop_duplicates()\n",
    "\n",
    "print(df_no_duplicates)"
   ]
  },
  {
   "cell_type": "markdown",
   "metadata": {},
   "source": [
    "### 3. 指定列进行去重\n",
    "\n",
    "你可以选择基于特定的列去重，而不是全行去重。这可以通过 subset 参数来实现。"
   ]
  },
  {
   "cell_type": "code",
   "execution_count": 11,
   "metadata": {},
   "outputs": [
    {
     "name": "stdout",
     "output_type": "stream",
     "text": [
      "      姓名  年龄  城市\n",
      "0  Alice  25  北京\n",
      "1    Bob  35  上海\n"
     ]
    }
   ],
   "source": [
    "# 基于 '姓名' 列去重\n",
    "df_unique_names = df.drop_duplicates(subset='年龄')\n",
    "\n",
    "print(df_unique_names)"
   ]
  },
  {
   "cell_type": "markdown",
   "metadata": {},
   "source": [
    "### 4. 保留最后一条记录\n",
    "\n",
    "drop_duplicates() 方法还允许你选择保留最后一次出现的记录，通过设置 keep 参数为 'last'。"
   ]
  },
  {
   "cell_type": "code",
   "execution_count": 12,
   "metadata": {},
   "outputs": [
    {
     "name": "stdout",
     "output_type": "stream",
     "text": [
      "        姓名  年龄  城市\n",
      "1      Bob  35  上海\n",
      "2    Alice  25  北京\n",
      "3  Charlie  35  广州\n"
     ]
    }
   ],
   "source": [
    "# 保留最后一次出现的记录\n",
    "df_keep_last = df.drop_duplicates(keep='last')\n",
    "\n",
    "print(df_keep_last)"
   ]
  }
 ],
 "metadata": {
  "kernelspec": {
   "display_name": "Python 3",
   "language": "python",
   "name": "python3"
  },
  "language_info": {
   "codemirror_mode": {
    "name": "ipython",
    "version": 3
   },
   "file_extension": ".py",
   "mimetype": "text/x-python",
   "name": "python",
   "nbconvert_exporter": "python",
   "pygments_lexer": "ipython3",
   "version": "3.9.6"
  }
 },
 "nbformat": 4,
 "nbformat_minor": 2
}
