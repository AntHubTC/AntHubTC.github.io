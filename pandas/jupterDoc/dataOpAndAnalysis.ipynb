{
 "cells": [
  {
   "cell_type": "markdown",
   "metadata": {},
   "source": [
    "## 数据操作与分析\n",
    "\n",
    "### 1.排序\n",
    "\n",
    "在数据分析中，排序是一个常见的操作。Pandas 提供了 sort_values() 方法来对 DataFrame 或 Series 进行排序。\n",
    "\n",
    "```python\n",
    "DataFrame.sort_values(by, axis=0, ascending=True, inplace=False)\n",
    "```"
   ]
  },
  {
   "cell_type": "code",
   "execution_count": 2,
   "metadata": {},
   "outputs": [
    {
     "name": "stdout",
     "output_type": "stream",
     "text": [
      "按年龄升序排序:\n",
      "        姓名  年龄  城市\n",
      "0    Alice  25  北京\n",
      "1      Bob  30  上海\n",
      "2  Charlie  35  广州\n",
      "\n",
      "按年龄降序排序:\n",
      "        姓名  年龄  城市\n",
      "2  Charlie  35  广州\n",
      "1      Bob  30  上海\n",
      "0    Alice  25  北京\n"
     ]
    }
   ],
   "source": [
    "import pandas as pd\n",
    "\n",
    "# 创建一个示例 DataFrame\n",
    "data = {\n",
    "    '姓名': ['Alice', 'Bob', 'Charlie'],\n",
    "    '年龄': [25, 30, 35],\n",
    "    '城市': ['北京', '上海', '广州']\n",
    "}\n",
    "\n",
    "df = pd.DataFrame(data)\n",
    "\n",
    "# 按照年龄列进行升序排序\n",
    "sorted_df = df.sort_values(by='年龄')\n",
    "print(\"按年龄升序排序:\")\n",
    "print(sorted_df)\n",
    "\n",
    "# 按照年龄列进行降序排序\n",
    "sorted_df_desc = df.sort_values(by='年龄', ascending=False)\n",
    "print(\"\\n按年龄降序排序:\")\n",
    "print(sorted_df_desc)"
   ]
  },
  {
   "cell_type": "markdown",
   "metadata": {},
   "source": [
    "### 2.分组与聚合\n",
    "\n",
    "分组和聚合是数据分析中非常重要的步骤，可以帮助我们从数据中提取更有意义的信息。Pandas 提供了 groupby() 方法来实现这一功能。"
   ]
  },
  {
   "cell_type": "code",
   "execution_count": 6,
   "metadata": {},
   "outputs": [
    {
     "name": "stdout",
     "output_type": "stream",
     "text": [
      "按性别分组后的平均年龄:\n",
      "性别\n",
      "女    27.5\n",
      "男    35.0\n",
      "Name: 年龄, dtype: float64\n"
     ]
    }
   ],
   "source": [
    "# 创建一个包含更多信息的示例 DataFrame\n",
    "data = {\n",
    "    '姓名': ['Alice', 'Bob', 'Charlie', 'David', 'Eva'],\n",
    "    '性别': ['女', '男', '男', '男', '女'],\n",
    "    '年龄': [25, 30, 35, 40, 30],\n",
    "    '城市': ['北京', '上海', '广州', '北京', '上海']\n",
    "}\n",
    "\n",
    "df = pd.DataFrame(data)\n",
    "\n",
    "# 按性别分组并计算每组的平均年龄\n",
    "grouped = df.groupby('性别')['年龄'].mean()\n",
    "print(\"按性别分组后的平均年龄:\")\n",
    "print(grouped)"
   ]
  },
  {
   "cell_type": "markdown",
   "metadata": {},
   "source": [
    "Pandas 支持多种聚合函数，如 mean, sum, count 等，可以在 groupby 后应用这些函数。"
   ]
  },
  {
   "cell_type": "code",
   "execution_count": 8,
   "metadata": {},
   "outputs": [
    {
     "name": "stdout",
     "output_type": "stream",
     "text": [
      "\n",
      "按城市分组后的数量:\n",
      "城市\n",
      "上海    2\n",
      "北京    2\n",
      "广州    1\n",
      "dtype: int64\n",
      "\n",
      "按性别分组后的聚合结果:\n",
      "    mean  sum  count\n",
      "性别                  \n",
      "女   27.5   55      2\n",
      "男   35.0  105      3\n"
     ]
    }
   ],
   "source": [
    "# 根据城市分组并计算每组的数量\n",
    "city_count = df.groupby('城市').size()\n",
    "print(\"\\n按城市分组后的数量:\")\n",
    "print(city_count)\n",
    "\n",
    "# 多个聚合函数\n",
    "aggregated = df.groupby('性别')['年龄'].agg(['mean', 'sum', 'count'])\n",
    "print(\"\\n按性别分组后的聚合结果:\")\n",
    "print(aggregated)\n"
   ]
  },
  {
   "cell_type": "markdown",
   "metadata": {},
   "source": [
    "### 3.合并与连接数据\n",
    "在前面的讨论中，我们已经介绍了如何使用 concat(), merge() 和 join() 方法来合并和连接数据。这里我们再稍作总结"
   ]
  },
  {
   "cell_type": "markdown",
   "metadata": {},
   "source": [
    "concat() 可以沿着某个轴连接多个 DataFrame"
   ]
  },
  {
   "cell_type": "code",
   "execution_count": 10,
   "metadata": {},
   "outputs": [
    {
     "name": "stdout",
     "output_type": "stream",
     "text": [
      "\n",
      "使用 concat 连接的 DataFrame:\n",
      "        名字  年龄\n",
      "0    Alice  25\n",
      "1      Bob  30\n",
      "0  Charlie  35\n",
      "1    David  40\n"
     ]
    }
   ],
   "source": [
    "# 创建两个示例 DataFrame\n",
    "df1 = pd.DataFrame({'名字': ['Alice', 'Bob'], '年龄': [25, 30]})\n",
    "df2 = pd.DataFrame({'名字': ['Charlie', 'David'], '年龄': [35, 40]})\n",
    "\n",
    "# 沿着行连接\n",
    "concat_df = pd.concat([df1, df2], axis=0)\n",
    "print(\"\\n使用 concat 连接的 DataFrame:\")\n",
    "print(concat_df)"
   ]
  },
  {
   "cell_type": "markdown",
   "metadata": {},
   "source": [
    "merge() 是基于一个或多个键将两个 DataFrame 进行合并。"
   ]
  },
  {
   "cell_type": "code",
   "execution_count": 16,
   "metadata": {},
   "outputs": [
    {
     "name": "stdout",
     "output_type": "stream",
     "text": [
      "数据集1：\n",
      "    员工ID       姓名\n",
      "0     1    Alice\n",
      "1     2      Bob\n",
      "2     3  Charlie\n",
      "数据集2：\n",
      "    员工ID  部门\n",
      "0     1  人事\n",
      "1     2  财务\n",
      "2     4  市场\n"
     ]
    }
   ],
   "source": [
    "import pandas as pd\n",
    "\n",
    "# 创建两个示例 DataFrame\n",
    "df1 = pd.DataFrame({\n",
    "    '员工ID': [1, 2, 3],\n",
    "    '姓名': ['Alice', 'Bob', 'Charlie']\n",
    "})\n",
    "\n",
    "df2 = pd.DataFrame({\n",
    "    '员工ID': [1, 2, 4],\n",
    "    '部门': ['人事', '财务', '市场']\n",
    "})\n",
    "\n",
    "print(\"数据集1：\\n\", df1)\n",
    "print(\"数据集2：\\n\", df2)"
   ]
  },
  {
   "cell_type": "code",
   "execution_count": 22,
   "metadata": {},
   "outputs": [
    {
     "name": "stdout",
     "output_type": "stream",
     "text": [
      "内连接结果:\n",
      "   员工ID     姓名  部门\n",
      "0     1  Alice  人事\n",
      "1     2    Bob  财务\n"
     ]
    }
   ],
   "source": [
    "# 内连接，只有在两个 DataFrame 中都存在的员工ID会被保留\n",
    "merged_inner_df = df1.merge(df2, on='员工ID', how='inner')\n",
    "print(\"内连接结果:\")\n",
    "print(merged_inner_df)"
   ]
  },
  {
   "cell_type": "code",
   "execution_count": 19,
   "metadata": {},
   "outputs": [
    {
     "name": "stdout",
     "output_type": "stream",
     "text": [
      "\n",
      "外连接结果:\n",
      "   员工ID       姓名   部门\n",
      "0     1    Alice   人事\n",
      "1     2      Bob   财务\n",
      "2     3  Charlie  NaN\n",
      "3     4      NaN   市场\n"
     ]
    }
   ],
   "source": [
    "# 外连接，保留所有员工ID，不存在的地方填充 NaN\n",
    "merged_outer_df = df1.merge(df2, on='员工ID', how='outer')\n",
    "print(\"\\n外连接结果:\")\n",
    "print(merged_outer_df)"
   ]
  },
  {
   "cell_type": "code",
   "execution_count": 20,
   "metadata": {},
   "outputs": [
    {
     "name": "stdout",
     "output_type": "stream",
     "text": [
      "\n",
      "左连接结果:\n",
      "   员工ID       姓名   部门\n",
      "0     1    Alice   人事\n",
      "1     2      Bob   财务\n",
      "2     3  Charlie  NaN\n"
     ]
    }
   ],
   "source": [
    "# 左连接，仅保留左侧 DataFrame 的所有行\n",
    "merged_left_df = df1.merge(df2, on='员工ID', how='left')\n",
    "print(\"\\n左连接结果:\")\n",
    "print(merged_left_df)"
   ]
  },
  {
   "cell_type": "code",
   "execution_count": 24,
   "metadata": {},
   "outputs": [
    {
     "name": "stdout",
     "output_type": "stream",
     "text": [
      "\n",
      "右连接结果:\n",
      "   员工ID     姓名  部门\n",
      "0     1  Alice  人事\n",
      "1     2    Bob  财务\n",
      "2     4    NaN  市场\n"
     ]
    }
   ],
   "source": [
    "# 右连接，仅保留右侧 DataFrame 的所有行\n",
    "merged_right_df = df1.merge(df2, on='员工ID', how='right')\n",
    "print(\"\\n右连接结果:\")\n",
    "print(merged_right_df)"
   ]
  },
  {
   "cell_type": "markdown",
   "metadata": {},
   "source": [
    "**使用 join()**\n",
    "\n",
    "join() 方法主要用于根据索引连接 DataFrame。它提供了一种简单的方式来结合两个 DataFrame，特别是在一个 DataFrame 的索引与另一个 DataFrame 的某一列匹配时。\n",
    "```python\n",
    "DataFrame.join(other, on=None, how='left', lsuffix='', rsuffix='', sort=False)\n",
    "```"
   ]
  },
  {
   "cell_type": "code",
   "execution_count": 26,
   "metadata": {},
   "outputs": [
    {
     "name": "stdout",
     "output_type": "stream",
     "text": [
      "\n",
      "使用 join 合并的结果:\n",
      "   部门  地点\n",
      "1  人事  北京\n",
      "2  财务  上海\n"
     ]
    }
   ],
   "source": [
    "# 创建两个示例 DataFrame，设置索引\n",
    "df3 = pd.DataFrame({'部门': ['人事', '财务']}, index=[1, 2])\n",
    "df4 = pd.DataFrame({'地点': ['北京', '上海']}, index=[1, 2])\n",
    "\n",
    "# 使用 join 将 df4 添加到 df3\n",
    "joined_df = df3.join(df4)\n",
    "print(\"\\n使用 join 合并的结果:\")\n",
    "print(joined_df)"
   ]
  }
 ],
 "metadata": {
  "kernelspec": {
   "display_name": "Python 3",
   "language": "python",
   "name": "python3"
  },
  "language_info": {
   "codemirror_mode": {
    "name": "ipython",
    "version": 3
   },
   "file_extension": ".py",
   "mimetype": "text/x-python",
   "name": "python",
   "nbconvert_exporter": "python",
   "pygments_lexer": "ipython3",
   "version": "3.9.6"
  }
 },
 "nbformat": 4,
 "nbformat_minor": 2
}
