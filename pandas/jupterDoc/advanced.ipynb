{
 "cells": [
  {
   "cell_type": "markdown",
   "metadata": {},
   "source": [
    "# 高级功能\n",
    "\n",
    "## 自定义函数与 apply 方法\n",
    "\n",
    "\n",
    "在 Pandas 中，我们可以通过自定义函数来对 DataFrame 或 Series 进行复杂的操作。使用 apply 方法，可以将这个自定义函数应用到 DataFrame 或 Series 的每一行或每一列。"
   ]
  },
  {
   "cell_type": "code",
   "execution_count": 6,
   "metadata": {},
   "outputs": [
    {
     "name": "stdout",
     "output_type": "stream",
     "text": [
      "base data:\n",
      "    A  B\n",
      "0  1  4\n",
      "1  2  5\n",
      "2  3  6\n",
      "new data:\n",
      "    A  B  C\n",
      "0  1  4  1\n",
      "1  2  5  4\n",
      "2  3  6  9\n"
     ]
    }
   ],
   "source": [
    "import pandas as pd\n",
    "\n",
    "# 创建一个示例 DataFrame\n",
    "data = {'A': [1, 2, 3], 'B': [4, 5, 6]}\n",
    "df = pd.DataFrame(data)\n",
    "print(\"base data:\\n\", df)\n",
    "\n",
    "# 定义一个自定义函数\n",
    "def my_function(x):\n",
    "    return x ** 2\n",
    "\n",
    "# 使用 apply 方法\n",
    "df['C'] = df['A'].apply(my_function)\n",
    "print(\"new data:\\n\", df)"
   ]
  },
  {
   "cell_type": "markdown",
   "metadata": {},
   "source": [
    "## 使用条件表达式\n",
    "\n",
    "我们可以使用条件表达式来对 DataFrame 中的数据进行筛选和赋值。常见的用法包括使用 numpy.where() 或者布尔索引。"
   ]
  },
  {
   "cell_type": "code",
   "execution_count": 11,
   "metadata": {},
   "outputs": [
    {
     "name": "stdout",
     "output_type": "stream",
     "text": [
      "   A  B  C      D\n",
      "0  1  4  1  小于等于1\n",
      "1  2  5  4    大于1\n",
      "2  3  6  9    大于1\n",
      "   A  B  C    D\n",
      "1  2  5  4  大于1\n",
      "2  3  6  9  大于1\n"
     ]
    }
   ],
   "source": [
    "import numpy as np\n",
    "\n",
    "# 使用 numpy.where() 来创建新列\n",
    "df['D'] = np.where(df['A'] > 1, '大于1', '小于等于1')\n",
    "print(df)\n",
    "\n",
    "# 使用布尔索引来过滤数据\n",
    "filtered_df = df[df['A'] > 1]\n",
    "print(filtered_df)"
   ]
  },
  {
   "cell_type": "markdown",
   "metadata": {},
   "source": [
    "## 使用 pivot_table 函数\n",
    "\n",
    "pivot_table 是一个强大的方法，用于根据指定的索引和列对数据进行汇总。它能够帮助我们生成透视表，提供更清晰的数据分析视图。"
   ]
  },
  {
   "cell_type": "code",
   "execution_count": 15,
   "metadata": {},
   "outputs": [
    {
     "name": "stdout",
     "output_type": "stream",
     "text": [
      "base data:\n",
      "            日期 类别  销量\n",
      "0  2023-01-01  A  10\n",
      "1  2023-01-01  B  20\n",
      "2  2023-01-02  A  15\n",
      "result:\n",
      " 类别           A   B\n",
      "日期                \n",
      "2023-01-01  10  20\n",
      "2023-01-02  15   0\n"
     ]
    }
   ],
   "source": [
    "# 创建一个示例 DataFrame\n",
    "data = {\n",
    "    '日期': ['2023-01-01', '2023-01-01', '2023-01-02'],\n",
    "    '类别': ['A', 'B', 'A'],\n",
    "    '销量': [10, 20, 15]\n",
    "}\n",
    "df = pd.DataFrame(data)\n",
    "print(\"base data:\\n\", df)\n",
    "\n",
    "# 使用 pivot_table 进行聚合\n",
    "pivot_table = df.pivot_table(values='销量', index='日期', columns='类别', aggfunc='sum', fill_value=0)\n",
    "print(\"result:\\n\", pivot_table)"
   ]
  },
  {
   "cell_type": "markdown",
   "metadata": {},
   "source": [
    "## 分类变量与分类数据\n",
    "\n",
    "Pandas 提供了对分类数据的支持，分类数据能够有效地存储具有重复值的离散数据，并且可以提高性能和内存效率。"
   ]
  },
  {
   "cell_type": "code",
   "execution_count": 29,
   "metadata": {},
   "outputs": [
    {
     "name": "stdout",
     "output_type": "stream",
     "text": [
      "count     3\n",
      "unique    2\n",
      "top       A\n",
      "freq      2\n",
      "Name: 类别, dtype: object\n",
      "------------------------------\n",
      "类别\n",
      "A    2\n",
      "B    1\n",
      "Name: count, dtype: int64\n"
     ]
    }
   ],
   "source": [
    "# 创建分类数据\n",
    "df['类别'] = pd.Categorical(['A', 'B', 'A'])\n",
    "# df['类别'] = pd.Categorical(df['类别'])\n",
    "\n",
    "# 查看数据的类别信息\n",
    "print(df['类别'].describe())\n",
    "print(\"-\" * 30)\n",
    "\n",
    "# 计算分类数据的频率\n",
    "frequency = df['类别'].value_counts()\n",
    "print(frequency)"
   ]
  }
 ],
 "metadata": {
  "kernelspec": {
   "display_name": "Python 3",
   "language": "python",
   "name": "python3"
  },
  "language_info": {
   "codemirror_mode": {
    "name": "ipython",
    "version": 3
   },
   "file_extension": ".py",
   "mimetype": "text/x-python",
   "name": "python",
   "nbconvert_exporter": "python",
   "pygments_lexer": "ipython3",
   "version": "3.9.6"
  }
 },
 "nbformat": 4,
 "nbformat_minor": 2
}
